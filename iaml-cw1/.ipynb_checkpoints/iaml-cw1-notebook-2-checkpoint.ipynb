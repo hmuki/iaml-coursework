{
 "cells": [
  {
   "cell_type": "code",
   "execution_count": 1,
   "metadata": {},
   "outputs": [
    {
     "name": "stderr",
     "output_type": "stream",
     "text": [
      "/Users/Hoffmann/miniconda3/envs/py3iaml/lib/python3.7/site-packages/sklearn/utils/__init__.py:4: DeprecationWarning: Using or importing the ABCs from 'collections' instead of from 'collections.abc' is deprecated since Python 3.3,and in 3.9 it will stop working\n",
      "  from collections import Sequence\n"
     ]
    }
   ],
   "source": [
    "import os\n",
    "import numpy as np\n",
    "import pandas as pd\n",
    "import matplotlib.pyplot as plt\n",
    "import seaborn as sns\n",
    "from sklearn.linear_model import LinearRegression"
   ]
  },
  {
   "cell_type": "code",
   "execution_count": 4,
   "metadata": {},
   "outputs": [],
   "source": [
    "data_path_train = os.path.join(os.getcwd(), 'data', 'faces_train_data.csv')"
   ]
  },
  {
   "cell_type": "code",
   "execution_count": 5,
   "metadata": {},
   "outputs": [],
   "source": [
    "faces_train_data = pd.read_csv(data_path_train, delimiter=',')"
   ]
  },
  {
   "cell_type": "code",
   "execution_count": 6,
   "metadata": {},
   "outputs": [],
   "source": [
    "data_path_test = os.path.join(os.getcwd(), 'data', 'faces_test_data.csv')"
   ]
  },
  {
   "cell_type": "code",
   "execution_count": 7,
   "metadata": {},
   "outputs": [],
   "source": [
    "faces_test_data = pd.read_csv(data_path_test, delimiter=',')"
   ]
  },
  {
   "cell_type": "code",
   "execution_count": 8,
   "metadata": {},
   "outputs": [
    {
     "name": "stdout",
     "output_type": "stream",
     "text": [
      "<class 'pandas.core.frame.DataFrame'>\n",
      "RangeIndex: 4800 entries, 0 to 4799\n",
      "Columns: 137 entries, x0 to smiling\n",
      "dtypes: float64(136), int64(1)\n",
      "memory usage: 5.0 MB\n"
     ]
    }
   ],
   "source": [
    "faces_train_data.info()"
   ]
  },
  {
   "cell_type": "code",
   "execution_count": 9,
   "metadata": {},
   "outputs": [
    {
     "name": "stdout",
     "output_type": "stream",
     "text": [
      "<class 'pandas.core.frame.DataFrame'>\n",
      "RangeIndex: 1200 entries, 0 to 1199\n",
      "Columns: 137 entries, x0 to smiling\n",
      "dtypes: float64(136), int64(1)\n",
      "memory usage: 1.3 MB\n"
     ]
    }
   ],
   "source": [
    "faces_test_data.info()"
   ]
  },
  {
   "cell_type": "code",
   "execution_count": 10,
   "metadata": {},
   "outputs": [
    {
     "data": {
      "text/html": [
       "<div>\n",
       "<style scoped>\n",
       "    .dataframe tbody tr th:only-of-type {\n",
       "        vertical-align: middle;\n",
       "    }\n",
       "\n",
       "    .dataframe tbody tr th {\n",
       "        vertical-align: top;\n",
       "    }\n",
       "\n",
       "    .dataframe thead th {\n",
       "        text-align: right;\n",
       "    }\n",
       "</style>\n",
       "<table border=\"1\" class=\"dataframe\">\n",
       "  <thead>\n",
       "    <tr style=\"text-align: right;\">\n",
       "      <th></th>\n",
       "      <th>x0</th>\n",
       "      <th>y0</th>\n",
       "      <th>x1</th>\n",
       "      <th>y1</th>\n",
       "      <th>x2</th>\n",
       "      <th>y2</th>\n",
       "      <th>x3</th>\n",
       "      <th>y3</th>\n",
       "      <th>x4</th>\n",
       "      <th>y4</th>\n",
       "      <th>...</th>\n",
       "      <th>y63</th>\n",
       "      <th>x64</th>\n",
       "      <th>y64</th>\n",
       "      <th>x65</th>\n",
       "      <th>y65</th>\n",
       "      <th>x66</th>\n",
       "      <th>y66</th>\n",
       "      <th>x67</th>\n",
       "      <th>y67</th>\n",
       "      <th>smiling</th>\n",
       "    </tr>\n",
       "  </thead>\n",
       "  <tbody>\n",
       "    <tr>\n",
       "      <th>0</th>\n",
       "      <td>-1.861</td>\n",
       "      <td>1.350</td>\n",
       "      <td>-1.835</td>\n",
       "      <td>0.892</td>\n",
       "      <td>-1.756</td>\n",
       "      <td>0.458</td>\n",
       "      <td>-1.704</td>\n",
       "      <td>-0.000</td>\n",
       "      <td>-1.625</td>\n",
       "      <td>-0.458</td>\n",
       "      <td>...</td>\n",
       "      <td>-0.160</td>\n",
       "      <td>0.498</td>\n",
       "      <td>-0.343</td>\n",
       "      <td>0.183</td>\n",
       "      <td>-0.389</td>\n",
       "      <td>-0.026</td>\n",
       "      <td>-0.389</td>\n",
       "      <td>-0.210</td>\n",
       "      <td>-0.389</td>\n",
       "      <td>0</td>\n",
       "    </tr>\n",
       "    <tr>\n",
       "      <th>1</th>\n",
       "      <td>-1.920</td>\n",
       "      <td>1.523</td>\n",
       "      <td>-1.920</td>\n",
       "      <td>1.066</td>\n",
       "      <td>-1.833</td>\n",
       "      <td>0.571</td>\n",
       "      <td>-1.746</td>\n",
       "      <td>0.076</td>\n",
       "      <td>-1.571</td>\n",
       "      <td>-0.343</td>\n",
       "      <td>...</td>\n",
       "      <td>-0.076</td>\n",
       "      <td>0.742</td>\n",
       "      <td>-0.076</td>\n",
       "      <td>0.262</td>\n",
       "      <td>-0.267</td>\n",
       "      <td>0.000</td>\n",
       "      <td>-0.305</td>\n",
       "      <td>-0.262</td>\n",
       "      <td>-0.267</td>\n",
       "      <td>1</td>\n",
       "    </tr>\n",
       "    <tr>\n",
       "      <th>2</th>\n",
       "      <td>-1.247</td>\n",
       "      <td>1.177</td>\n",
       "      <td>-1.256</td>\n",
       "      <td>0.806</td>\n",
       "      <td>-1.183</td>\n",
       "      <td>0.403</td>\n",
       "      <td>-0.983</td>\n",
       "      <td>0.008</td>\n",
       "      <td>-0.746</td>\n",
       "      <td>-0.371</td>\n",
       "      <td>...</td>\n",
       "      <td>-0.055</td>\n",
       "      <td>1.247</td>\n",
       "      <td>0.016</td>\n",
       "      <td>0.464</td>\n",
       "      <td>-0.506</td>\n",
       "      <td>0.173</td>\n",
       "      <td>-0.553</td>\n",
       "      <td>-0.082</td>\n",
       "      <td>-0.537</td>\n",
       "      <td>1</td>\n",
       "    </tr>\n",
       "    <tr>\n",
       "      <th>3</th>\n",
       "      <td>-1.660</td>\n",
       "      <td>1.812</td>\n",
       "      <td>-1.701</td>\n",
       "      <td>1.324</td>\n",
       "      <td>-1.660</td>\n",
       "      <td>0.801</td>\n",
       "      <td>-1.620</td>\n",
       "      <td>0.314</td>\n",
       "      <td>-1.498</td>\n",
       "      <td>-0.139</td>\n",
       "      <td>...</td>\n",
       "      <td>-0.070</td>\n",
       "      <td>0.891</td>\n",
       "      <td>-0.035</td>\n",
       "      <td>0.283</td>\n",
       "      <td>-0.279</td>\n",
       "      <td>0.000</td>\n",
       "      <td>-0.279</td>\n",
       "      <td>-0.283</td>\n",
       "      <td>-0.244</td>\n",
       "      <td>0</td>\n",
       "    </tr>\n",
       "    <tr>\n",
       "      <th>4</th>\n",
       "      <td>-1.776</td>\n",
       "      <td>1.551</td>\n",
       "      <td>-1.693</td>\n",
       "      <td>1.140</td>\n",
       "      <td>-1.549</td>\n",
       "      <td>0.729</td>\n",
       "      <td>-1.363</td>\n",
       "      <td>0.318</td>\n",
       "      <td>-1.115</td>\n",
       "      <td>-0.075</td>\n",
       "      <td>...</td>\n",
       "      <td>-0.093</td>\n",
       "      <td>0.764</td>\n",
       "      <td>0.056</td>\n",
       "      <td>0.227</td>\n",
       "      <td>-0.112</td>\n",
       "      <td>0.041</td>\n",
       "      <td>-0.150</td>\n",
       "      <td>-0.145</td>\n",
       "      <td>-0.131</td>\n",
       "      <td>0</td>\n",
       "    </tr>\n",
       "  </tbody>\n",
       "</table>\n",
       "<p>5 rows × 137 columns</p>\n",
       "</div>"
      ],
      "text/plain": [
       "      x0     y0     x1     y1     x2     y2     x3     y3     x4     y4  \\\n",
       "0 -1.861  1.350 -1.835  0.892 -1.756  0.458 -1.704 -0.000 -1.625 -0.458   \n",
       "1 -1.920  1.523 -1.920  1.066 -1.833  0.571 -1.746  0.076 -1.571 -0.343   \n",
       "2 -1.247  1.177 -1.256  0.806 -1.183  0.403 -0.983  0.008 -0.746 -0.371   \n",
       "3 -1.660  1.812 -1.701  1.324 -1.660  0.801 -1.620  0.314 -1.498 -0.139   \n",
       "4 -1.776  1.551 -1.693  1.140 -1.549  0.729 -1.363  0.318 -1.115 -0.075   \n",
       "\n",
       "    ...       y63    x64    y64    x65    y65    x66    y66    x67    y67  \\\n",
       "0   ...    -0.160  0.498 -0.343  0.183 -0.389 -0.026 -0.389 -0.210 -0.389   \n",
       "1   ...    -0.076  0.742 -0.076  0.262 -0.267  0.000 -0.305 -0.262 -0.267   \n",
       "2   ...    -0.055  1.247  0.016  0.464 -0.506  0.173 -0.553 -0.082 -0.537   \n",
       "3   ...    -0.070  0.891 -0.035  0.283 -0.279  0.000 -0.279 -0.283 -0.244   \n",
       "4   ...    -0.093  0.764  0.056  0.227 -0.112  0.041 -0.150 -0.145 -0.131   \n",
       "\n",
       "   smiling  \n",
       "0        0  \n",
       "1        1  \n",
       "2        1  \n",
       "3        0  \n",
       "4        0  \n",
       "\n",
       "[5 rows x 137 columns]"
      ]
     },
     "execution_count": 10,
     "metadata": {},
     "output_type": "execute_result"
    }
   ],
   "source": [
    "faces_train_data.head()"
   ]
  },
  {
   "cell_type": "code",
   "execution_count": 11,
   "metadata": {},
   "outputs": [
    {
     "data": {
      "text/html": [
       "<div>\n",
       "<style scoped>\n",
       "    .dataframe tbody tr th:only-of-type {\n",
       "        vertical-align: middle;\n",
       "    }\n",
       "\n",
       "    .dataframe tbody tr th {\n",
       "        vertical-align: top;\n",
       "    }\n",
       "\n",
       "    .dataframe thead th {\n",
       "        text-align: right;\n",
       "    }\n",
       "</style>\n",
       "<table border=\"1\" class=\"dataframe\">\n",
       "  <thead>\n",
       "    <tr style=\"text-align: right;\">\n",
       "      <th></th>\n",
       "      <th>x0</th>\n",
       "      <th>y0</th>\n",
       "      <th>x1</th>\n",
       "      <th>y1</th>\n",
       "      <th>x2</th>\n",
       "      <th>y2</th>\n",
       "      <th>x3</th>\n",
       "      <th>y3</th>\n",
       "      <th>x4</th>\n",
       "      <th>y4</th>\n",
       "      <th>...</th>\n",
       "      <th>y63</th>\n",
       "      <th>x64</th>\n",
       "      <th>y64</th>\n",
       "      <th>x65</th>\n",
       "      <th>y65</th>\n",
       "      <th>x66</th>\n",
       "      <th>y66</th>\n",
       "      <th>x67</th>\n",
       "      <th>y67</th>\n",
       "      <th>smiling</th>\n",
       "    </tr>\n",
       "  </thead>\n",
       "  <tbody>\n",
       "    <tr>\n",
       "      <th>0</th>\n",
       "      <td>-3.109</td>\n",
       "      <td>1.440</td>\n",
       "      <td>-3.067</td>\n",
       "      <td>0.847</td>\n",
       "      <td>-2.982</td>\n",
       "      <td>0.212</td>\n",
       "      <td>-2.811</td>\n",
       "      <td>-0.381</td>\n",
       "      <td>-2.385</td>\n",
       "      <td>-0.847</td>\n",
       "      <td>...</td>\n",
       "      <td>-0.085</td>\n",
       "      <td>0.383</td>\n",
       "      <td>-0.000</td>\n",
       "      <td>0.170</td>\n",
       "      <td>-0.127</td>\n",
       "      <td>0.000</td>\n",
       "      <td>-0.212</td>\n",
       "      <td>-0.213</td>\n",
       "      <td>-0.212</td>\n",
       "      <td>1</td>\n",
       "    </tr>\n",
       "    <tr>\n",
       "      <th>1</th>\n",
       "      <td>-2.747</td>\n",
       "      <td>1.159</td>\n",
       "      <td>-2.693</td>\n",
       "      <td>0.669</td>\n",
       "      <td>-2.585</td>\n",
       "      <td>0.223</td>\n",
       "      <td>-2.424</td>\n",
       "      <td>-0.268</td>\n",
       "      <td>-2.208</td>\n",
       "      <td>-0.669</td>\n",
       "      <td>...</td>\n",
       "      <td>-0.089</td>\n",
       "      <td>0.485</td>\n",
       "      <td>-0.134</td>\n",
       "      <td>0.269</td>\n",
       "      <td>-0.357</td>\n",
       "      <td>0.054</td>\n",
       "      <td>-0.446</td>\n",
       "      <td>-0.215</td>\n",
       "      <td>-0.446</td>\n",
       "      <td>0</td>\n",
       "    </tr>\n",
       "    <tr>\n",
       "      <th>2</th>\n",
       "      <td>-2.370</td>\n",
       "      <td>1.604</td>\n",
       "      <td>-2.326</td>\n",
       "      <td>1.130</td>\n",
       "      <td>-2.238</td>\n",
       "      <td>0.656</td>\n",
       "      <td>-2.107</td>\n",
       "      <td>0.182</td>\n",
       "      <td>-1.843</td>\n",
       "      <td>-0.255</td>\n",
       "      <td>...</td>\n",
       "      <td>-0.109</td>\n",
       "      <td>0.571</td>\n",
       "      <td>-0.146</td>\n",
       "      <td>0.176</td>\n",
       "      <td>-0.146</td>\n",
       "      <td>0.000</td>\n",
       "      <td>-0.146</td>\n",
       "      <td>-0.219</td>\n",
       "      <td>-0.146</td>\n",
       "      <td>0</td>\n",
       "    </tr>\n",
       "    <tr>\n",
       "      <th>3</th>\n",
       "      <td>-2.696</td>\n",
       "      <td>2.059</td>\n",
       "      <td>-2.684</td>\n",
       "      <td>1.503</td>\n",
       "      <td>-2.620</td>\n",
       "      <td>0.935</td>\n",
       "      <td>-2.505</td>\n",
       "      <td>0.378</td>\n",
       "      <td>-2.262</td>\n",
       "      <td>-0.116</td>\n",
       "      <td>...</td>\n",
       "      <td>-0.053</td>\n",
       "      <td>0.422</td>\n",
       "      <td>-0.042</td>\n",
       "      <td>0.153</td>\n",
       "      <td>-0.137</td>\n",
       "      <td>-0.038</td>\n",
       "      <td>-0.179</td>\n",
       "      <td>-0.256</td>\n",
       "      <td>-0.168</td>\n",
       "      <td>0</td>\n",
       "    </tr>\n",
       "    <tr>\n",
       "      <th>4</th>\n",
       "      <td>-2.072</td>\n",
       "      <td>2.017</td>\n",
       "      <td>-1.950</td>\n",
       "      <td>1.504</td>\n",
       "      <td>-1.788</td>\n",
       "      <td>1.027</td>\n",
       "      <td>-1.625</td>\n",
       "      <td>0.550</td>\n",
       "      <td>-1.381</td>\n",
       "      <td>0.110</td>\n",
       "      <td>...</td>\n",
       "      <td>-0.037</td>\n",
       "      <td>0.731</td>\n",
       "      <td>0.073</td>\n",
       "      <td>0.244</td>\n",
       "      <td>-0.037</td>\n",
       "      <td>0.000</td>\n",
       "      <td>-0.073</td>\n",
       "      <td>-0.203</td>\n",
       "      <td>-0.073</td>\n",
       "      <td>0</td>\n",
       "    </tr>\n",
       "  </tbody>\n",
       "</table>\n",
       "<p>5 rows × 137 columns</p>\n",
       "</div>"
      ],
      "text/plain": [
       "      x0     y0     x1     y1     x2     y2     x3     y3     x4     y4  \\\n",
       "0 -3.109  1.440 -3.067  0.847 -2.982  0.212 -2.811 -0.381 -2.385 -0.847   \n",
       "1 -2.747  1.159 -2.693  0.669 -2.585  0.223 -2.424 -0.268 -2.208 -0.669   \n",
       "2 -2.370  1.604 -2.326  1.130 -2.238  0.656 -2.107  0.182 -1.843 -0.255   \n",
       "3 -2.696  2.059 -2.684  1.503 -2.620  0.935 -2.505  0.378 -2.262 -0.116   \n",
       "4 -2.072  2.017 -1.950  1.504 -1.788  1.027 -1.625  0.550 -1.381  0.110   \n",
       "\n",
       "    ...       y63    x64    y64    x65    y65    x66    y66    x67    y67  \\\n",
       "0   ...    -0.085  0.383 -0.000  0.170 -0.127  0.000 -0.212 -0.213 -0.212   \n",
       "1   ...    -0.089  0.485 -0.134  0.269 -0.357  0.054 -0.446 -0.215 -0.446   \n",
       "2   ...    -0.109  0.571 -0.146  0.176 -0.146  0.000 -0.146 -0.219 -0.146   \n",
       "3   ...    -0.053  0.422 -0.042  0.153 -0.137 -0.038 -0.179 -0.256 -0.168   \n",
       "4   ...    -0.037  0.731  0.073  0.244 -0.037  0.000 -0.073 -0.203 -0.073   \n",
       "\n",
       "   smiling  \n",
       "0        1  \n",
       "1        0  \n",
       "2        0  \n",
       "3        0  \n",
       "4        0  \n",
       "\n",
       "[5 rows x 137 columns]"
      ]
     },
     "execution_count": 11,
     "metadata": {},
     "output_type": "execute_result"
    }
   ],
   "source": [
    "faces_test_data.head()"
   ]
  },
  {
   "cell_type": "code",
   "execution_count": 31,
   "metadata": {},
   "outputs": [],
   "source": [
    "X_train = faces_train_data.drop('smiling', axis=1)\n",
    "y_train = faces_train_data['smiling']"
   ]
  },
  {
   "cell_type": "code",
   "execution_count": 32,
   "metadata": {},
   "outputs": [],
   "source": [
    "X_test = faces_test_data.drop('smiling', axis=1)\n",
    "y_test = faces_test_data['smiling']"
   ]
  },
  {
   "cell_type": "code",
   "execution_count": 33,
   "metadata": {},
   "outputs": [
    {
     "data": {
      "text/plain": [
       "(1200, 136)"
      ]
     },
     "execution_count": 33,
     "metadata": {},
     "output_type": "execute_result"
    }
   ],
   "source": [
    "X_test.shape"
   ]
  },
  {
   "cell_type": "code",
   "execution_count": 36,
   "metadata": {},
   "outputs": [],
   "source": [
    "x_smiling = X_train[faces_train_data['smiling'] == 1]"
   ]
  },
  {
   "cell_type": "code",
   "execution_count": 37,
   "metadata": {},
   "outputs": [
    {
     "data": {
      "text/plain": [
       "2335"
      ]
     },
     "execution_count": 37,
     "metadata": {},
     "output_type": "execute_result"
    }
   ],
   "source": [
    "len(x_smiling)"
   ]
  },
  {
   "cell_type": "code",
   "execution_count": 38,
   "metadata": {},
   "outputs": [],
   "source": [
    "x_not_smiling = X_train[faces_train_data['smiling'] == 0]"
   ]
  },
  {
   "cell_type": "code",
   "execution_count": 39,
   "metadata": {},
   "outputs": [
    {
     "data": {
      "text/plain": [
       "(2465, 136)"
      ]
     },
     "execution_count": 39,
     "metadata": {},
     "output_type": "execute_result"
    }
   ],
   "source": [
    "x_not_smiling.shape"
   ]
  },
  {
   "cell_type": "code",
   "execution_count": 40,
   "metadata": {},
   "outputs": [],
   "source": [
    "bool_indices = [i for i in range(len(x_smiling.columns)) if i%2 == 0]"
   ]
  },
  {
   "cell_type": "code",
   "execution_count": 41,
   "metadata": {},
   "outputs": [],
   "source": [
    "smiling_column_names = x_smiling.columns[bool_indices]"
   ]
  },
  {
   "cell_type": "code",
   "execution_count": 42,
   "metadata": {},
   "outputs": [
    {
     "data": {
      "text/plain": [
       "68"
      ]
     },
     "execution_count": 42,
     "metadata": {},
     "output_type": "execute_result"
    }
   ],
   "source": [
    "len(smiling_column_names)"
   ]
  },
  {
   "cell_type": "code",
   "execution_count": 46,
   "metadata": {},
   "outputs": [],
   "source": [
    "x_smiling = x_smiling[:][smiling_column_names]"
   ]
  },
  {
   "cell_type": "code",
   "execution_count": 49,
   "metadata": {},
   "outputs": [
    {
     "data": {
      "text/plain": [
       "2335"
      ]
     },
     "execution_count": 49,
     "metadata": {},
     "output_type": "execute_result"
    }
   ],
   "source": [
    "len(x_smiling)"
   ]
  },
  {
   "cell_type": "code",
   "execution_count": 50,
   "metadata": {},
   "outputs": [],
   "source": [
    "bool_indices = [i for i in range(len(x_not_smiling.columns)) if i%2 == 0]"
   ]
  },
  {
   "cell_type": "code",
   "execution_count": 51,
   "metadata": {},
   "outputs": [],
   "source": [
    "not_smiling_column_names = x_not_smiling.columns[bool_indices]"
   ]
  },
  {
   "cell_type": "code",
   "execution_count": 52,
   "metadata": {},
   "outputs": [
    {
     "data": {
      "text/plain": [
       "68"
      ]
     },
     "execution_count": 52,
     "metadata": {},
     "output_type": "execute_result"
    }
   ],
   "source": [
    "len(not_smiling_column_names)"
   ]
  },
  {
   "cell_type": "code",
   "execution_count": 56,
   "metadata": {},
   "outputs": [],
   "source": [
    "x_not_smiling = x_not_smiling[:][not_smiling_column_names]"
   ]
  },
  {
   "cell_type": "code",
   "execution_count": 57,
   "metadata": {},
   "outputs": [
    {
     "data": {
      "text/plain": [
       "2465"
      ]
     },
     "execution_count": 57,
     "metadata": {},
     "output_type": "execute_result"
    }
   ],
   "source": [
    "len(x_not_smiling)"
   ]
  },
  {
   "cell_type": "code",
   "execution_count": 58,
   "metadata": {},
   "outputs": [
    {
     "data": {
      "text/html": [
       "<div>\n",
       "<style scoped>\n",
       "    .dataframe tbody tr th:only-of-type {\n",
       "        vertical-align: middle;\n",
       "    }\n",
       "\n",
       "    .dataframe tbody tr th {\n",
       "        vertical-align: top;\n",
       "    }\n",
       "\n",
       "    .dataframe thead th {\n",
       "        text-align: right;\n",
       "    }\n",
       "</style>\n",
       "<table border=\"1\" class=\"dataframe\">\n",
       "  <thead>\n",
       "    <tr style=\"text-align: right;\">\n",
       "      <th></th>\n",
       "      <th>x0</th>\n",
       "      <th>x1</th>\n",
       "      <th>x2</th>\n",
       "      <th>x3</th>\n",
       "      <th>x4</th>\n",
       "      <th>x5</th>\n",
       "      <th>x6</th>\n",
       "      <th>x7</th>\n",
       "      <th>x8</th>\n",
       "      <th>x9</th>\n",
       "      <th>...</th>\n",
       "      <th>x58</th>\n",
       "      <th>x59</th>\n",
       "      <th>x60</th>\n",
       "      <th>x61</th>\n",
       "      <th>x62</th>\n",
       "      <th>x63</th>\n",
       "      <th>x64</th>\n",
       "      <th>x65</th>\n",
       "      <th>x66</th>\n",
       "      <th>x67</th>\n",
       "    </tr>\n",
       "  </thead>\n",
       "  <tbody>\n",
       "    <tr>\n",
       "      <th>0</th>\n",
       "      <td>-1.861</td>\n",
       "      <td>-1.835</td>\n",
       "      <td>-1.756</td>\n",
       "      <td>-1.704</td>\n",
       "      <td>-1.625</td>\n",
       "      <td>-1.389</td>\n",
       "      <td>-1.022</td>\n",
       "      <td>-0.550</td>\n",
       "      <td>0.000</td>\n",
       "      <td>0.550</td>\n",
       "      <td>...</td>\n",
       "      <td>-0.236</td>\n",
       "      <td>-0.472</td>\n",
       "      <td>-0.524</td>\n",
       "      <td>-0.183</td>\n",
       "      <td>0.000</td>\n",
       "      <td>0.183</td>\n",
       "      <td>0.498</td>\n",
       "      <td>0.183</td>\n",
       "      <td>-0.026</td>\n",
       "      <td>-0.210</td>\n",
       "    </tr>\n",
       "    <tr>\n",
       "      <th>3</th>\n",
       "      <td>-1.660</td>\n",
       "      <td>-1.701</td>\n",
       "      <td>-1.660</td>\n",
       "      <td>-1.620</td>\n",
       "      <td>-1.498</td>\n",
       "      <td>-1.296</td>\n",
       "      <td>-1.012</td>\n",
       "      <td>-0.648</td>\n",
       "      <td>-0.162</td>\n",
       "      <td>0.364</td>\n",
       "      <td>...</td>\n",
       "      <td>-0.324</td>\n",
       "      <td>-0.648</td>\n",
       "      <td>-0.850</td>\n",
       "      <td>-0.283</td>\n",
       "      <td>0.000</td>\n",
       "      <td>0.283</td>\n",
       "      <td>0.891</td>\n",
       "      <td>0.283</td>\n",
       "      <td>0.000</td>\n",
       "      <td>-0.283</td>\n",
       "    </tr>\n",
       "    <tr>\n",
       "      <th>4</th>\n",
       "      <td>-1.776</td>\n",
       "      <td>-1.693</td>\n",
       "      <td>-1.549</td>\n",
       "      <td>-1.363</td>\n",
       "      <td>-1.115</td>\n",
       "      <td>-0.805</td>\n",
       "      <td>-0.475</td>\n",
       "      <td>-0.083</td>\n",
       "      <td>0.372</td>\n",
       "      <td>0.888</td>\n",
       "      <td>...</td>\n",
       "      <td>-0.083</td>\n",
       "      <td>-0.330</td>\n",
       "      <td>-0.454</td>\n",
       "      <td>-0.124</td>\n",
       "      <td>0.041</td>\n",
       "      <td>0.207</td>\n",
       "      <td>0.764</td>\n",
       "      <td>0.227</td>\n",
       "      <td>0.041</td>\n",
       "      <td>-0.145</td>\n",
       "    </tr>\n",
       "    <tr>\n",
       "      <th>7</th>\n",
       "      <td>0.237</td>\n",
       "      <td>-0.068</td>\n",
       "      <td>-0.271</td>\n",
       "      <td>-0.338</td>\n",
       "      <td>-0.406</td>\n",
       "      <td>-0.542</td>\n",
       "      <td>-0.677</td>\n",
       "      <td>-0.846</td>\n",
       "      <td>-0.677</td>\n",
       "      <td>-0.237</td>\n",
       "      <td>...</td>\n",
       "      <td>-0.508</td>\n",
       "      <td>-0.474</td>\n",
       "      <td>-0.237</td>\n",
       "      <td>-0.169</td>\n",
       "      <td>-0.068</td>\n",
       "      <td>0.102</td>\n",
       "      <td>0.575</td>\n",
       "      <td>-0.068</td>\n",
       "      <td>-0.237</td>\n",
       "      <td>-0.338</td>\n",
       "    </tr>\n",
       "    <tr>\n",
       "      <th>9</th>\n",
       "      <td>-2.008</td>\n",
       "      <td>-1.971</td>\n",
       "      <td>-1.858</td>\n",
       "      <td>-1.708</td>\n",
       "      <td>-1.502</td>\n",
       "      <td>-1.201</td>\n",
       "      <td>-0.845</td>\n",
       "      <td>-0.450</td>\n",
       "      <td>0.038</td>\n",
       "      <td>0.526</td>\n",
       "      <td>...</td>\n",
       "      <td>-0.244</td>\n",
       "      <td>-0.507</td>\n",
       "      <td>-0.638</td>\n",
       "      <td>-0.225</td>\n",
       "      <td>0.000</td>\n",
       "      <td>0.244</td>\n",
       "      <td>0.638</td>\n",
       "      <td>0.244</td>\n",
       "      <td>0.000</td>\n",
       "      <td>-0.244</td>\n",
       "    </tr>\n",
       "  </tbody>\n",
       "</table>\n",
       "<p>5 rows × 68 columns</p>\n",
       "</div>"
      ],
      "text/plain": [
       "      x0     x1     x2     x3     x4     x5     x6     x7     x8     x9  \\\n",
       "0 -1.861 -1.835 -1.756 -1.704 -1.625 -1.389 -1.022 -0.550  0.000  0.550   \n",
       "3 -1.660 -1.701 -1.660 -1.620 -1.498 -1.296 -1.012 -0.648 -0.162  0.364   \n",
       "4 -1.776 -1.693 -1.549 -1.363 -1.115 -0.805 -0.475 -0.083  0.372  0.888   \n",
       "7  0.237 -0.068 -0.271 -0.338 -0.406 -0.542 -0.677 -0.846 -0.677 -0.237   \n",
       "9 -2.008 -1.971 -1.858 -1.708 -1.502 -1.201 -0.845 -0.450  0.038  0.526   \n",
       "\n",
       "   ...      x58    x59    x60    x61    x62    x63    x64    x65    x66    x67  \n",
       "0  ...   -0.236 -0.472 -0.524 -0.183  0.000  0.183  0.498  0.183 -0.026 -0.210  \n",
       "3  ...   -0.324 -0.648 -0.850 -0.283  0.000  0.283  0.891  0.283  0.000 -0.283  \n",
       "4  ...   -0.083 -0.330 -0.454 -0.124  0.041  0.207  0.764  0.227  0.041 -0.145  \n",
       "7  ...   -0.508 -0.474 -0.237 -0.169 -0.068  0.102  0.575 -0.068 -0.237 -0.338  \n",
       "9  ...   -0.244 -0.507 -0.638 -0.225  0.000  0.244  0.638  0.244  0.000 -0.244  \n",
       "\n",
       "[5 rows x 68 columns]"
      ]
     },
     "execution_count": 58,
     "metadata": {},
     "output_type": "execute_result"
    }
   ],
   "source": [
    "x_not_smiling.head()"
   ]
  },
  {
   "cell_type": "code",
   "execution_count": 79,
   "metadata": {},
   "outputs": [],
   "source": [
    "y_smiling = X_train[faces_train_data['smiling'] == 1]"
   ]
  },
  {
   "cell_type": "code",
   "execution_count": 80,
   "metadata": {},
   "outputs": [
    {
     "data": {
      "text/plain": [
       "2335"
      ]
     },
     "execution_count": 80,
     "metadata": {},
     "output_type": "execute_result"
    }
   ],
   "source": [
    "len(y_smiling)"
   ]
  },
  {
   "cell_type": "code",
   "execution_count": 81,
   "metadata": {},
   "outputs": [],
   "source": [
    "y_not_smiling = X_train[faces_train_data['smiling'] == 0]"
   ]
  },
  {
   "cell_type": "code",
   "execution_count": 82,
   "metadata": {},
   "outputs": [
    {
     "data": {
      "text/plain": [
       "(2465, 136)"
      ]
     },
     "execution_count": 82,
     "metadata": {},
     "output_type": "execute_result"
    }
   ],
   "source": [
    "y_not_smiling.shape"
   ]
  },
  {
   "cell_type": "code",
   "execution_count": 83,
   "metadata": {},
   "outputs": [
    {
     "data": {
      "text/plain": [
       "[1,\n",
       " 3,\n",
       " 5,\n",
       " 7,\n",
       " 9,\n",
       " 11,\n",
       " 13,\n",
       " 15,\n",
       " 17,\n",
       " 19,\n",
       " 21,\n",
       " 23,\n",
       " 25,\n",
       " 27,\n",
       " 29,\n",
       " 31,\n",
       " 33,\n",
       " 35,\n",
       " 37,\n",
       " 39,\n",
       " 41,\n",
       " 43,\n",
       " 45,\n",
       " 47,\n",
       " 49,\n",
       " 51,\n",
       " 53,\n",
       " 55,\n",
       " 57,\n",
       " 59,\n",
       " 61,\n",
       " 63,\n",
       " 65,\n",
       " 67,\n",
       " 69,\n",
       " 71,\n",
       " 73,\n",
       " 75,\n",
       " 77,\n",
       " 79,\n",
       " 81,\n",
       " 83,\n",
       " 85,\n",
       " 87,\n",
       " 89,\n",
       " 91,\n",
       " 93,\n",
       " 95,\n",
       " 97,\n",
       " 99,\n",
       " 101,\n",
       " 103,\n",
       " 105,\n",
       " 107,\n",
       " 109,\n",
       " 111,\n",
       " 113,\n",
       " 115,\n",
       " 117,\n",
       " 119,\n",
       " 121,\n",
       " 123,\n",
       " 125,\n",
       " 127,\n",
       " 129,\n",
       " 131,\n",
       " 133,\n",
       " 135]"
      ]
     },
     "execution_count": 83,
     "metadata": {},
     "output_type": "execute_result"
    }
   ],
   "source": [
    "y_bool_indices = [i for i in range(len(y_not_smiling.columns)) if i%2 == 1]\n",
    "len(y_bool_indices)"
   ]
  },
  {
   "cell_type": "code",
   "execution_count": 84,
   "metadata": {},
   "outputs": [
    {
     "data": {
      "text/plain": [
       "68"
      ]
     },
     "execution_count": 84,
     "metadata": {},
     "output_type": "execute_result"
    }
   ],
   "source": [
    "y_column_names = y_not_smiling.columns[y_bool_indices]\n",
    "len(y_column_names)"
   ]
  },
  {
   "cell_type": "code",
   "execution_count": 85,
   "metadata": {},
   "outputs": [],
   "source": [
    "y_smiling = y_smiling[:][y_column_names]"
   ]
  },
  {
   "cell_type": "code",
   "execution_count": 86,
   "metadata": {},
   "outputs": [],
   "source": [
    "y_not_smiling = y_not_smiling[:][y_column_names]"
   ]
  },
  {
   "cell_type": "code",
   "execution_count": 90,
   "metadata": {},
   "outputs": [
    {
     "data": {
      "text/plain": [
       "Index(['y0', 'y1', 'y2', 'y3', 'y4', 'y5', 'y6', 'y7', 'y8', 'y9', 'y10',\n",
       "       'y11', 'y12', 'y13', 'y14', 'y15', 'y16', 'y17', 'y18', 'y19', 'y20',\n",
       "       'y21', 'y22', 'y23', 'y24', 'y25', 'y26', 'y27', 'y28', 'y29', 'y30',\n",
       "       'y31', 'y32', 'y33', 'y34', 'y35', 'y36', 'y37', 'y38', 'y39', 'y40',\n",
       "       'y41', 'y42', 'y43', 'y44', 'y45', 'y46', 'y47', 'y48', 'y49', 'y50',\n",
       "       'y51', 'y52', 'y53', 'y54', 'y55', 'y56', 'y57', 'y58', 'y59', 'y60',\n",
       "       'y61', 'y62', 'y63', 'y64', 'y65', 'y66', 'y67'],\n",
       "      dtype='object')"
      ]
     },
     "execution_count": 90,
     "metadata": {},
     "output_type": "execute_result"
    }
   ],
   "source": [
    "y_column_names"
   ]
  },
  {
   "cell_type": "code",
   "execution_count": 87,
   "metadata": {},
   "outputs": [
    {
     "data": {
      "text/html": [
       "<div>\n",
       "<style scoped>\n",
       "    .dataframe tbody tr th:only-of-type {\n",
       "        vertical-align: middle;\n",
       "    }\n",
       "\n",
       "    .dataframe tbody tr th {\n",
       "        vertical-align: top;\n",
       "    }\n",
       "\n",
       "    .dataframe thead th {\n",
       "        text-align: right;\n",
       "    }\n",
       "</style>\n",
       "<table border=\"1\" class=\"dataframe\">\n",
       "  <thead>\n",
       "    <tr style=\"text-align: right;\">\n",
       "      <th></th>\n",
       "      <th>y0</th>\n",
       "      <th>y1</th>\n",
       "      <th>y2</th>\n",
       "      <th>y3</th>\n",
       "      <th>y4</th>\n",
       "      <th>y5</th>\n",
       "      <th>y6</th>\n",
       "      <th>y7</th>\n",
       "      <th>y8</th>\n",
       "      <th>y9</th>\n",
       "      <th>...</th>\n",
       "      <th>y58</th>\n",
       "      <th>y59</th>\n",
       "      <th>y60</th>\n",
       "      <th>y61</th>\n",
       "      <th>y62</th>\n",
       "      <th>y63</th>\n",
       "      <th>y64</th>\n",
       "      <th>y65</th>\n",
       "      <th>y66</th>\n",
       "      <th>y67</th>\n",
       "    </tr>\n",
       "  </thead>\n",
       "  <tbody>\n",
       "    <tr>\n",
       "      <th>1</th>\n",
       "      <td>1.523</td>\n",
       "      <td>1.066</td>\n",
       "      <td>0.571</td>\n",
       "      <td>0.076</td>\n",
       "      <td>-0.343</td>\n",
       "      <td>-0.723</td>\n",
       "      <td>-1.066</td>\n",
       "      <td>-1.371</td>\n",
       "      <td>-1.447</td>\n",
       "      <td>-1.371</td>\n",
       "      <td>...</td>\n",
       "      <td>-0.457</td>\n",
       "      <td>-0.305</td>\n",
       "      <td>-0.076</td>\n",
       "      <td>-0.076</td>\n",
       "      <td>-0.076</td>\n",
       "      <td>-0.076</td>\n",
       "      <td>-0.076</td>\n",
       "      <td>-0.267</td>\n",
       "      <td>-0.305</td>\n",
       "      <td>-0.267</td>\n",
       "    </tr>\n",
       "    <tr>\n",
       "      <th>2</th>\n",
       "      <td>1.177</td>\n",
       "      <td>0.806</td>\n",
       "      <td>0.403</td>\n",
       "      <td>0.008</td>\n",
       "      <td>-0.371</td>\n",
       "      <td>-0.759</td>\n",
       "      <td>-1.138</td>\n",
       "      <td>-1.470</td>\n",
       "      <td>-1.565</td>\n",
       "      <td>-1.446</td>\n",
       "      <td>...</td>\n",
       "      <td>-0.751</td>\n",
       "      <td>-0.529</td>\n",
       "      <td>-0.198</td>\n",
       "      <td>-0.111</td>\n",
       "      <td>-0.111</td>\n",
       "      <td>-0.055</td>\n",
       "      <td>0.016</td>\n",
       "      <td>-0.506</td>\n",
       "      <td>-0.553</td>\n",
       "      <td>-0.537</td>\n",
       "    </tr>\n",
       "    <tr>\n",
       "      <th>5</th>\n",
       "      <td>1.026</td>\n",
       "      <td>0.545</td>\n",
       "      <td>0.064</td>\n",
       "      <td>-0.449</td>\n",
       "      <td>-0.866</td>\n",
       "      <td>-1.187</td>\n",
       "      <td>-1.411</td>\n",
       "      <td>-1.507</td>\n",
       "      <td>-1.507</td>\n",
       "      <td>-1.315</td>\n",
       "      <td>...</td>\n",
       "      <td>-0.609</td>\n",
       "      <td>-0.513</td>\n",
       "      <td>-0.224</td>\n",
       "      <td>-0.160</td>\n",
       "      <td>-0.128</td>\n",
       "      <td>-0.096</td>\n",
       "      <td>-0.000</td>\n",
       "      <td>-0.289</td>\n",
       "      <td>-0.385</td>\n",
       "      <td>-0.385</td>\n",
       "    </tr>\n",
       "    <tr>\n",
       "      <th>6</th>\n",
       "      <td>1.463</td>\n",
       "      <td>1.024</td>\n",
       "      <td>0.585</td>\n",
       "      <td>0.125</td>\n",
       "      <td>-0.313</td>\n",
       "      <td>-0.689</td>\n",
       "      <td>-1.045</td>\n",
       "      <td>-1.358</td>\n",
       "      <td>-1.483</td>\n",
       "      <td>-1.400</td>\n",
       "      <td>...</td>\n",
       "      <td>-0.669</td>\n",
       "      <td>-0.418</td>\n",
       "      <td>-0.021</td>\n",
       "      <td>-0.104</td>\n",
       "      <td>-0.125</td>\n",
       "      <td>-0.084</td>\n",
       "      <td>-0.000</td>\n",
       "      <td>-0.418</td>\n",
       "      <td>-0.460</td>\n",
       "      <td>-0.418</td>\n",
       "    </tr>\n",
       "    <tr>\n",
       "      <th>8</th>\n",
       "      <td>1.848</td>\n",
       "      <td>1.299</td>\n",
       "      <td>0.780</td>\n",
       "      <td>0.231</td>\n",
       "      <td>-0.260</td>\n",
       "      <td>-0.664</td>\n",
       "      <td>-0.953</td>\n",
       "      <td>-1.155</td>\n",
       "      <td>-1.213</td>\n",
       "      <td>-1.097</td>\n",
       "      <td>...</td>\n",
       "      <td>-0.231</td>\n",
       "      <td>-0.144</td>\n",
       "      <td>-0.000</td>\n",
       "      <td>-0.058</td>\n",
       "      <td>-0.087</td>\n",
       "      <td>-0.058</td>\n",
       "      <td>0.029</td>\n",
       "      <td>-0.058</td>\n",
       "      <td>-0.087</td>\n",
       "      <td>-0.058</td>\n",
       "    </tr>\n",
       "  </tbody>\n",
       "</table>\n",
       "<p>5 rows × 68 columns</p>\n",
       "</div>"
      ],
      "text/plain": [
       "      y0     y1     y2     y3     y4     y5     y6     y7     y8     y9  \\\n",
       "1  1.523  1.066  0.571  0.076 -0.343 -0.723 -1.066 -1.371 -1.447 -1.371   \n",
       "2  1.177  0.806  0.403  0.008 -0.371 -0.759 -1.138 -1.470 -1.565 -1.446   \n",
       "5  1.026  0.545  0.064 -0.449 -0.866 -1.187 -1.411 -1.507 -1.507 -1.315   \n",
       "6  1.463  1.024  0.585  0.125 -0.313 -0.689 -1.045 -1.358 -1.483 -1.400   \n",
       "8  1.848  1.299  0.780  0.231 -0.260 -0.664 -0.953 -1.155 -1.213 -1.097   \n",
       "\n",
       "   ...      y58    y59    y60    y61    y62    y63    y64    y65    y66    y67  \n",
       "1  ...   -0.457 -0.305 -0.076 -0.076 -0.076 -0.076 -0.076 -0.267 -0.305 -0.267  \n",
       "2  ...   -0.751 -0.529 -0.198 -0.111 -0.111 -0.055  0.016 -0.506 -0.553 -0.537  \n",
       "5  ...   -0.609 -0.513 -0.224 -0.160 -0.128 -0.096 -0.000 -0.289 -0.385 -0.385  \n",
       "6  ...   -0.669 -0.418 -0.021 -0.104 -0.125 -0.084 -0.000 -0.418 -0.460 -0.418  \n",
       "8  ...   -0.231 -0.144 -0.000 -0.058 -0.087 -0.058  0.029 -0.058 -0.087 -0.058  \n",
       "\n",
       "[5 rows x 68 columns]"
      ]
     },
     "execution_count": 87,
     "metadata": {},
     "output_type": "execute_result"
    }
   ],
   "source": [
    "y_smiling.head()"
   ]
  },
  {
   "cell_type": "code",
   "execution_count": 88,
   "metadata": {},
   "outputs": [
    {
     "data": {
      "text/html": [
       "<div>\n",
       "<style scoped>\n",
       "    .dataframe tbody tr th:only-of-type {\n",
       "        vertical-align: middle;\n",
       "    }\n",
       "\n",
       "    .dataframe tbody tr th {\n",
       "        vertical-align: top;\n",
       "    }\n",
       "\n",
       "    .dataframe thead th {\n",
       "        text-align: right;\n",
       "    }\n",
       "</style>\n",
       "<table border=\"1\" class=\"dataframe\">\n",
       "  <thead>\n",
       "    <tr style=\"text-align: right;\">\n",
       "      <th></th>\n",
       "      <th>y0</th>\n",
       "      <th>y1</th>\n",
       "      <th>y2</th>\n",
       "      <th>y3</th>\n",
       "      <th>y4</th>\n",
       "      <th>y5</th>\n",
       "      <th>y6</th>\n",
       "      <th>y7</th>\n",
       "      <th>y8</th>\n",
       "      <th>y9</th>\n",
       "      <th>...</th>\n",
       "      <th>y58</th>\n",
       "      <th>y59</th>\n",
       "      <th>y60</th>\n",
       "      <th>y61</th>\n",
       "      <th>y62</th>\n",
       "      <th>y63</th>\n",
       "      <th>y64</th>\n",
       "      <th>y65</th>\n",
       "      <th>y66</th>\n",
       "      <th>y67</th>\n",
       "    </tr>\n",
       "  </thead>\n",
       "  <tbody>\n",
       "    <tr>\n",
       "      <th>0</th>\n",
       "      <td>1.350</td>\n",
       "      <td>0.892</td>\n",
       "      <td>0.458</td>\n",
       "      <td>-0.000</td>\n",
       "      <td>-0.458</td>\n",
       "      <td>-0.847</td>\n",
       "      <td>-1.144</td>\n",
       "      <td>-1.373</td>\n",
       "      <td>-1.442</td>\n",
       "      <td>-1.396</td>\n",
       "      <td>...</td>\n",
       "      <td>-0.641</td>\n",
       "      <td>-0.549</td>\n",
       "      <td>-0.320</td>\n",
       "      <td>-0.160</td>\n",
       "      <td>-0.160</td>\n",
       "      <td>-0.160</td>\n",
       "      <td>-0.343</td>\n",
       "      <td>-0.389</td>\n",
       "      <td>-0.389</td>\n",
       "      <td>-0.389</td>\n",
       "    </tr>\n",
       "    <tr>\n",
       "      <th>3</th>\n",
       "      <td>1.812</td>\n",
       "      <td>1.324</td>\n",
       "      <td>0.801</td>\n",
       "      <td>0.314</td>\n",
       "      <td>-0.139</td>\n",
       "      <td>-0.557</td>\n",
       "      <td>-0.976</td>\n",
       "      <td>-1.289</td>\n",
       "      <td>-1.394</td>\n",
       "      <td>-1.324</td>\n",
       "      <td>...</td>\n",
       "      <td>-0.453</td>\n",
       "      <td>-0.279</td>\n",
       "      <td>-0.000</td>\n",
       "      <td>-0.070</td>\n",
       "      <td>-0.105</td>\n",
       "      <td>-0.070</td>\n",
       "      <td>-0.035</td>\n",
       "      <td>-0.279</td>\n",
       "      <td>-0.279</td>\n",
       "      <td>-0.244</td>\n",
       "    </tr>\n",
       "    <tr>\n",
       "      <th>4</th>\n",
       "      <td>1.551</td>\n",
       "      <td>1.140</td>\n",
       "      <td>0.729</td>\n",
       "      <td>0.318</td>\n",
       "      <td>-0.075</td>\n",
       "      <td>-0.430</td>\n",
       "      <td>-0.748</td>\n",
       "      <td>-1.028</td>\n",
       "      <td>-1.103</td>\n",
       "      <td>-0.972</td>\n",
       "      <td>...</td>\n",
       "      <td>-0.411</td>\n",
       "      <td>-0.299</td>\n",
       "      <td>-0.112</td>\n",
       "      <td>-0.131</td>\n",
       "      <td>-0.131</td>\n",
       "      <td>-0.093</td>\n",
       "      <td>0.056</td>\n",
       "      <td>-0.112</td>\n",
       "      <td>-0.150</td>\n",
       "      <td>-0.131</td>\n",
       "    </tr>\n",
       "    <tr>\n",
       "      <th>7</th>\n",
       "      <td>1.515</td>\n",
       "      <td>1.267</td>\n",
       "      <td>0.909</td>\n",
       "      <td>0.523</td>\n",
       "      <td>0.138</td>\n",
       "      <td>-0.276</td>\n",
       "      <td>-0.689</td>\n",
       "      <td>-1.075</td>\n",
       "      <td>-1.378</td>\n",
       "      <td>-1.598</td>\n",
       "      <td>...</td>\n",
       "      <td>-0.634</td>\n",
       "      <td>-0.358</td>\n",
       "      <td>-0.110</td>\n",
       "      <td>-0.028</td>\n",
       "      <td>-0.110</td>\n",
       "      <td>-0.193</td>\n",
       "      <td>-0.661</td>\n",
       "      <td>-0.661</td>\n",
       "      <td>-0.551</td>\n",
       "      <td>-0.441</td>\n",
       "    </tr>\n",
       "    <tr>\n",
       "      <th>9</th>\n",
       "      <td>1.898</td>\n",
       "      <td>1.432</td>\n",
       "      <td>0.965</td>\n",
       "      <td>0.515</td>\n",
       "      <td>0.080</td>\n",
       "      <td>-0.290</td>\n",
       "      <td>-0.643</td>\n",
       "      <td>-0.933</td>\n",
       "      <td>-1.013</td>\n",
       "      <td>-0.933</td>\n",
       "      <td>...</td>\n",
       "      <td>-0.434</td>\n",
       "      <td>-0.322</td>\n",
       "      <td>-0.097</td>\n",
       "      <td>-0.113</td>\n",
       "      <td>-0.145</td>\n",
       "      <td>-0.113</td>\n",
       "      <td>-0.064</td>\n",
       "      <td>-0.129</td>\n",
       "      <td>-0.161</td>\n",
       "      <td>-0.145</td>\n",
       "    </tr>\n",
       "  </tbody>\n",
       "</table>\n",
       "<p>5 rows × 68 columns</p>\n",
       "</div>"
      ],
      "text/plain": [
       "      y0     y1     y2     y3     y4     y5     y6     y7     y8     y9  \\\n",
       "0  1.350  0.892  0.458 -0.000 -0.458 -0.847 -1.144 -1.373 -1.442 -1.396   \n",
       "3  1.812  1.324  0.801  0.314 -0.139 -0.557 -0.976 -1.289 -1.394 -1.324   \n",
       "4  1.551  1.140  0.729  0.318 -0.075 -0.430 -0.748 -1.028 -1.103 -0.972   \n",
       "7  1.515  1.267  0.909  0.523  0.138 -0.276 -0.689 -1.075 -1.378 -1.598   \n",
       "9  1.898  1.432  0.965  0.515  0.080 -0.290 -0.643 -0.933 -1.013 -0.933   \n",
       "\n",
       "   ...      y58    y59    y60    y61    y62    y63    y64    y65    y66    y67  \n",
       "0  ...   -0.641 -0.549 -0.320 -0.160 -0.160 -0.160 -0.343 -0.389 -0.389 -0.389  \n",
       "3  ...   -0.453 -0.279 -0.000 -0.070 -0.105 -0.070 -0.035 -0.279 -0.279 -0.244  \n",
       "4  ...   -0.411 -0.299 -0.112 -0.131 -0.131 -0.093  0.056 -0.112 -0.150 -0.131  \n",
       "7  ...   -0.634 -0.358 -0.110 -0.028 -0.110 -0.193 -0.661 -0.661 -0.551 -0.441  \n",
       "9  ...   -0.434 -0.322 -0.097 -0.113 -0.145 -0.113 -0.064 -0.129 -0.161 -0.145  \n",
       "\n",
       "[5 rows x 68 columns]"
      ]
     },
     "execution_count": 88,
     "metadata": {},
     "output_type": "execute_result"
    }
   ],
   "source": [
    "y_not_smiling.head()"
   ]
  },
  {
   "cell_type": "code",
   "execution_count": 89,
   "metadata": {},
   "outputs": [
    {
     "data": {
      "text/plain": [
       "(2335, 68)"
      ]
     },
     "execution_count": 89,
     "metadata": {},
     "output_type": "execute_result"
    }
   ],
   "source": [
    "x_smiling.shape"
   ]
  },
  {
   "cell_type": "code",
   "execution_count": 91,
   "metadata": {},
   "outputs": [
    {
     "data": {
      "text/plain": [
       "Index(['x0', 'x1', 'x2', 'x3', 'x4', 'x5', 'x6', 'x7', 'x8', 'x9', 'x10',\n",
       "       'x11', 'x12', 'x13', 'x14', 'x15', 'x16', 'x17', 'x18', 'x19', 'x20',\n",
       "       'x21', 'x22', 'x23', 'x24', 'x25', 'x26', 'x27', 'x28', 'x29', 'x30',\n",
       "       'x31', 'x32', 'x33', 'x34', 'x35', 'x36', 'x37', 'x38', 'x39', 'x40',\n",
       "       'x41', 'x42', 'x43', 'x44', 'x45', 'x46', 'x47', 'x48', 'x49', 'x50',\n",
       "       'x51', 'x52', 'x53', 'x54', 'x55', 'x56', 'x57', 'x58', 'x59', 'x60',\n",
       "       'x61', 'x62', 'x63', 'x64', 'x65', 'x66', 'x67'],\n",
       "      dtype='object')"
      ]
     },
     "execution_count": 91,
     "metadata": {},
     "output_type": "execute_result"
    }
   ],
   "source": [
    "smiling_column_names"
   ]
  },
  {
   "cell_type": "code",
   "execution_count": null,
   "metadata": {},
   "outputs": [],
   "source": [
    "x_smiling = [x_smiling[column] for column in smiling_column_names]"
   ]
  },
  {
   "cell_type": "code",
   "execution_count": 95,
   "metadata": {},
   "outputs": [
    {
     "data": {
      "text/plain": [
       "numpy.ndarray"
      ]
     },
     "execution_count": 95,
     "metadata": {},
     "output_type": "execute_result"
    }
   ],
   "source": [
    "type(np.array(x_smiling['x0']))"
   ]
  },
  {
   "cell_type": "code",
   "execution_count": 96,
   "metadata": {},
   "outputs": [
    {
     "data": {
      "text/plain": [
       "array([-1.92 , -1.247, -2.619, ..., -1.923, -1.05 , -3.125])"
      ]
     },
     "execution_count": 96,
     "metadata": {},
     "output_type": "execute_result"
    }
   ],
   "source": [
    "np.array(x_smiling['x0'])"
   ]
  },
  {
   "cell_type": "code",
   "execution_count": 97,
   "metadata": {},
   "outputs": [],
   "source": [
    "x_smiling = np.array([np.array(x_smiling[column]) for column in smiling_column_names])"
   ]
  },
  {
   "cell_type": "code",
   "execution_count": 98,
   "metadata": {},
   "outputs": [
    {
     "data": {
      "text/plain": [
       "(68, 2335)"
      ]
     },
     "execution_count": 98,
     "metadata": {},
     "output_type": "execute_result"
    }
   ],
   "source": [
    "x_smiling.shape"
   ]
  },
  {
   "cell_type": "code",
   "execution_count": 99,
   "metadata": {},
   "outputs": [],
   "source": [
    "x_not_smiling = np.array([np.array(x_not_smiling[column]) for column in smiling_column_names])"
   ]
  },
  {
   "cell_type": "code",
   "execution_count": 100,
   "metadata": {},
   "outputs": [
    {
     "data": {
      "text/plain": [
       "(68, 2465)"
      ]
     },
     "execution_count": 100,
     "metadata": {},
     "output_type": "execute_result"
    }
   ],
   "source": [
    "x_not_smiling.shape"
   ]
  },
  {
   "cell_type": "code",
   "execution_count": 101,
   "metadata": {},
   "outputs": [],
   "source": [
    "y_smiling = np.array([np.array(y_smiling[column]) for column in y_column_names])"
   ]
  },
  {
   "cell_type": "code",
   "execution_count": 102,
   "metadata": {},
   "outputs": [],
   "source": [
    "y_not_smiling = np.array([np.array(y_not_smiling[column]) for column in y_column_names])"
   ]
  },
  {
   "cell_type": "code",
   "execution_count": 103,
   "metadata": {},
   "outputs": [
    {
     "data": {
      "text/plain": [
       "(68, 2335)"
      ]
     },
     "execution_count": 103,
     "metadata": {},
     "output_type": "execute_result"
    }
   ],
   "source": [
    "y_smiling.shape"
   ]
  },
  {
   "cell_type": "code",
   "execution_count": 104,
   "metadata": {},
   "outputs": [
    {
     "data": {
      "text/plain": [
       "(68, 2465)"
      ]
     },
     "execution_count": 104,
     "metadata": {},
     "output_type": "execute_result"
    }
   ],
   "source": [
    "y_not_smiling.shape"
   ]
  },
  {
   "cell_type": "code",
   "execution_count": 105,
   "metadata": {},
   "outputs": [
    {
     "data": {
      "text/plain": [
       "3.0"
      ]
     },
     "execution_count": 105,
     "metadata": {},
     "output_type": "execute_result"
    }
   ],
   "source": [
    "np.mean([1,2,3,4,5])"
   ]
  },
  {
   "cell_type": "code",
   "execution_count": 106,
   "metadata": {},
   "outputs": [],
   "source": [
    "mean_x_smiling = np.array([np.mean(x) for x in x_smiling])"
   ]
  },
  {
   "cell_type": "code",
   "execution_count": 107,
   "metadata": {},
   "outputs": [
    {
     "data": {
      "text/plain": [
       "(68,)"
      ]
     },
     "execution_count": 107,
     "metadata": {},
     "output_type": "execute_result"
    }
   ],
   "source": [
    "mean_x_smiling.shape"
   ]
  },
  {
   "cell_type": "code",
   "execution_count": 108,
   "metadata": {},
   "outputs": [
    {
     "data": {
      "text/plain": [
       "array([-1.94065439, -1.92961927, -1.87226767, -1.76324754, -1.56690964])"
      ]
     },
     "execution_count": 108,
     "metadata": {},
     "output_type": "execute_result"
    }
   ],
   "source": [
    "mean_x_smiling[:5]"
   ]
  },
  {
   "cell_type": "code",
   "execution_count": 109,
   "metadata": {},
   "outputs": [],
   "source": [
    "mean_y_smiling = np.array([np.mean(y) for y in y_smiling])"
   ]
  },
  {
   "cell_type": "code",
   "execution_count": 110,
   "metadata": {},
   "outputs": [
    {
     "data": {
      "text/plain": [
       "array([ 1.43915375,  0.98321199,  0.52006681,  0.05619186, -0.37285996])"
      ]
     },
     "execution_count": 110,
     "metadata": {},
     "output_type": "execute_result"
    }
   ],
   "source": [
    "mean_y_smiling[:5]"
   ]
  },
  {
   "cell_type": "code",
   "execution_count": 111,
   "metadata": {},
   "outputs": [],
   "source": [
    "mean_x_not_smiling = np.array([np.mean(x) for x in x_not_smiling])"
   ]
  },
  {
   "cell_type": "code",
   "execution_count": 112,
   "metadata": {},
   "outputs": [
    {
     "data": {
      "text/plain": [
       "array([-1.92372819, -1.91154564, -1.84506491, -1.7272499 , -1.53575984])"
      ]
     },
     "execution_count": 112,
     "metadata": {},
     "output_type": "execute_result"
    }
   ],
   "source": [
    "mean_x_not_smiling[:5]"
   ]
  },
  {
   "cell_type": "code",
   "execution_count": 113,
   "metadata": {},
   "outputs": [],
   "source": [
    "mean_y_not_smiling = np.array([np.mean(y) for y in y_not_smiling])"
   ]
  },
  {
   "cell_type": "code",
   "execution_count": 114,
   "metadata": {},
   "outputs": [
    {
     "data": {
      "text/plain": [
       "(68,)"
      ]
     },
     "execution_count": 114,
     "metadata": {},
     "output_type": "execute_result"
    }
   ],
   "source": [
    "mean_y_not_smiling.shape"
   ]
  },
  {
   "cell_type": "code",
   "execution_count": 115,
   "metadata": {},
   "outputs": [
    {
     "data": {
      "text/plain": [
       "array([ 1.47147546,  1.02430345,  0.56968722,  0.12020406, -0.29638499])"
      ]
     },
     "execution_count": 115,
     "metadata": {},
     "output_type": "execute_result"
    }
   ],
   "source": [
    "mean_y_not_smiling[:5]"
   ]
  },
  {
   "cell_type": "code",
   "execution_count": 117,
   "metadata": {},
   "outputs": [
    {
     "data": {
      "image/png": "[encoded data removed]",
      "text/plain": [
       "<Figure size 432x288 with 1 Axes>"
      ]
     },
     "metadata": {
      "needs_background": "light"
     },
     "output_type": "display_data"
    }
   ],
   "source": [
    "plt.scatter(mean_x_smiling, mean_y_smiling, color = \"black\")\n",
    "plt.title(\"Scatter plot of average location for each 2D coordinate for smiling faces\")\n",
    "plt.xlabel(\"x-coordinates\")\n",
    "plt.ylabel(\"y-coordinates\")\n",
    "plt.savefig('y-versus-x-smiling_faces.svg')\n",
    "plt.show()"
   ]
  },
  {
   "cell_type": "code",
   "execution_count": 118,
   "metadata": {},
   "outputs": [
    {
     "data": {
      "image/png": "[encoded data removed]",
      "text/plain": [
       "<Figure size 432x288 with 1 Axes>"
      ]
     },
     "metadata": {
      "needs_background": "light"
     },
     "output_type": "display_data"
    }
   ],
   "source": [
    "plt.scatter(mean_x_not_smiling, mean_y_not_smiling, color = \"black\")\n",
    "plt.title(\"Scatter plot of average location for each 2D coordinate for not smiling faces\")\n",
    "plt.xlabel(\"x-coordinates\")\n",
    "plt.ylabel(\"y-coordinates\")\n",
    "plt.savefig('y-versus-x-not-smiling_faces.svg')\n",
    "plt.show()"
   ]
  },
  {
   "cell_type": "code",
   "execution_count": 121,
   "metadata": {},
   "outputs": [
    {
     "data": {
      "image/png": "[encoded data removed]",
      "text/plain": [
       "<Figure size 720x720 with 1 Axes>"
      ]
     },
     "metadata": {
      "needs_background": "light"
     },
     "output_type": "display_data"
    }
   ],
   "source": [
    "from matplotlib.lines import Line2D\n",
    "\n",
    "plt.rcParams['figure.figsize'] = (10, 10)\n",
    "plt.scatter(mean_x_smiling, mean_y_smiling, color = \"green\")\n",
    "plt.scatter(mean_x_not_smiling, mean_y_not_smiling, color = \"red\")\n",
    "plt.title(\"Scatter plot of average location for each 2D coordinate for faces\")\n",
    "plt.xlabel(\"x-coordinates\")\n",
    "plt.ylabel(\"y-coordinates\")\n",
    "\n",
    "colors = ['green', 'red']\n",
    "lines = [Line2D([0], [0], color=c, linewidth=3, linestyle='-') for c in colors]\n",
    "labels = ['2D coordinate for smiling face', '2D coordinate for not smiling face']\n",
    "plt.legend(lines, labels)\n",
    "\n",
    "plt.grid(True)\n",
    "\n",
    "plt.savefig('y-versus-x-faces.svg')\n",
    "plt.show()"
   ]
  },
  {
   "cell_type": "code",
   "execution_count": 122,
   "metadata": {},
   "outputs": [],
   "source": [
    "from sklearn.tree import DecisionTreeClassifier\n",
    "from sklearn.metrics import accuracy_score"
   ]
  },
  {
   "cell_type": "code",
   "execution_count": 123,
   "metadata": {},
   "outputs": [],
   "source": [
    "dt_2 = DecisionTreeClassifier(max_depth=2, random_state=2001)"
   ]
  },
  {
   "cell_type": "code",
   "execution_count": 124,
   "metadata": {},
   "outputs": [
    {
     "data": {
      "text/plain": [
       "DecisionTreeClassifier(class_weight=None, criterion='gini', max_depth=2,\n",
       "            max_features=None, max_leaf_nodes=None,\n",
       "            min_impurity_decrease=0.0, min_impurity_split=None,\n",
       "            min_samples_leaf=1, min_samples_split=2,\n",
       "            min_weight_fraction_leaf=0.0, presort=False, random_state=2001,\n",
       "            splitter='best')"
      ]
     },
     "execution_count": 124,
     "metadata": {},
     "output_type": "execute_result"
    }
   ],
   "source": [
    "dt_2.fit(X_train, y_train)"
   ]
  },
  {
   "cell_type": "code",
   "execution_count": 125,
   "metadata": {},
   "outputs": [],
   "source": [
    "dt_8 = DecisionTreeClassifier(max_depth=8, random_state=2001)"
   ]
  },
  {
   "cell_type": "code",
   "execution_count": 126,
   "metadata": {},
   "outputs": [],
   "source": [
    "dt_20 = DecisionTreeClassifier(max_depth=20, random_state=2001)"
   ]
  },
  {
   "cell_type": "code",
   "execution_count": 127,
   "metadata": {},
   "outputs": [
    {
     "data": {
      "text/plain": [
       "DecisionTreeClassifier(class_weight=None, criterion='gini', max_depth=8,\n",
       "            max_features=None, max_leaf_nodes=None,\n",
       "            min_impurity_decrease=0.0, min_impurity_split=None,\n",
       "            min_samples_leaf=1, min_samples_split=2,\n",
       "            min_weight_fraction_leaf=0.0, presort=False, random_state=2001,\n",
       "            splitter='best')"
      ]
     },
     "execution_count": 127,
     "metadata": {},
     "output_type": "execute_result"
    }
   ],
   "source": [
    "dt_8.fit(X_train, y_train)"
   ]
  },
  {
   "cell_type": "code",
   "execution_count": 128,
   "metadata": {},
   "outputs": [
    {
     "data": {
      "text/plain": [
       "DecisionTreeClassifier(class_weight=None, criterion='gini', max_depth=20,\n",
       "            max_features=None, max_leaf_nodes=None,\n",
       "            min_impurity_decrease=0.0, min_impurity_split=None,\n",
       "            min_samples_leaf=1, min_samples_split=2,\n",
       "            min_weight_fraction_leaf=0.0, presort=False, random_state=2001,\n",
       "            splitter='best')"
      ]
     },
     "execution_count": 128,
     "metadata": {},
     "output_type": "execute_result"
    }
   ],
   "source": [
    "dt_20.fit(X_train, y_train)"
   ]
  },
  {
   "cell_type": "code",
   "execution_count": 129,
   "metadata": {},
   "outputs": [],
   "source": [
    "y_pred_train_2 = dt_2.predict(X_train)"
   ]
  },
  {
   "cell_type": "code",
   "execution_count": 130,
   "metadata": {},
   "outputs": [],
   "source": [
    "y_pred_train_8 = dt_8.predict(X_train)"
   ]
  },
  {
   "cell_type": "code",
   "execution_count": 131,
   "metadata": {},
   "outputs": [],
   "source": [
    "y_pred_train_20 = dt_20.predict(X_train)"
   ]
  },
  {
   "cell_type": "code",
   "execution_count": 132,
   "metadata": {},
   "outputs": [],
   "source": [
    "y_pred_test_2 = dt_2.predict(X_test)"
   ]
  },
  {
   "cell_type": "code",
   "execution_count": 133,
   "metadata": {},
   "outputs": [],
   "source": [
    "y_pred_test_8 = dt_8.predict(X_test)"
   ]
  },
  {
   "cell_type": "code",
   "execution_count": 213,
   "metadata": {},
   "outputs": [],
   "source": [
    "y_pred_test_20 = dt_20.predict(X_test)"
   ]
  },
  {
   "cell_type": "code",
   "execution_count": 141,
   "metadata": {},
   "outputs": [
    {
     "data": {
      "text/plain": [
       "0.7947916666666667"
      ]
     },
     "execution_count": 141,
     "metadata": {},
     "output_type": "execute_result"
    }
   ],
   "source": [
    "acc_train_2 = accuracy_score(y_train, y_pred_train_2)\n",
    "acc_train_2"
   ]
  },
  {
   "cell_type": "code",
   "execution_count": 143,
   "metadata": {},
   "outputs": [
    {
     "data": {
      "text/plain": [
       "0.9335416666666667"
      ]
     },
     "execution_count": 143,
     "metadata": {},
     "output_type": "execute_result"
    }
   ],
   "source": [
    "acc_train_8 = accuracy_score(y_train, y_pred_train_8)\n",
    "acc_train_8"
   ]
  },
  {
   "cell_type": "code",
   "execution_count": 145,
   "metadata": {},
   "outputs": [
    {
     "data": {
      "text/plain": [
       "1.0"
      ]
     },
     "execution_count": 145,
     "metadata": {},
     "output_type": "execute_result"
    }
   ],
   "source": [
    "acc_train_20 = accuracy_score(y_train, y_pred_train_20)\n",
    "acc_train_20"
   ]
  },
  {
   "cell_type": "code",
   "execution_count": 142,
   "metadata": {},
   "outputs": [
    {
     "data": {
      "text/plain": [
       "0.7816666666666666"
      ]
     },
     "execution_count": 142,
     "metadata": {},
     "output_type": "execute_result"
    }
   ],
   "source": [
    "acc_test_2 = accuracy_score(y_test, y_pred_test_2)\n",
    "acc_test_2"
   ]
  },
  {
   "cell_type": "code",
   "execution_count": 144,
   "metadata": {},
   "outputs": [
    {
     "data": {
      "text/plain": [
       "0.8408333333333333"
      ]
     },
     "execution_count": 144,
     "metadata": {},
     "output_type": "execute_result"
    }
   ],
   "source": [
    "acc_test_8 = accuracy_score(y_test, y_pred_test_8)\n",
    "acc_test_8"
   ]
  },
  {
   "cell_type": "code",
   "execution_count": 146,
   "metadata": {},
   "outputs": [
    {
     "data": {
      "text/plain": [
       "0.8158333333333333"
      ]
     },
     "execution_count": 146,
     "metadata": {},
     "output_type": "execute_result"
    }
   ],
   "source": [
    "acc_test_20 = accuracy_score(y_test, y_pred_test_20)\n",
    "acc_test_20"
   ]
  },
  {
   "cell_type": "code",
   "execution_count": 150,
   "metadata": {},
   "outputs": [
    {
     "data": {
      "text/plain": [
       "136"
      ]
     },
     "execution_count": 150,
     "metadata": {},
     "output_type": "execute_result"
    }
   ],
   "source": [
    "features = [f for f in X_train.columns]\n",
    "len(features)"
   ]
  },
  {
   "cell_type": "code",
   "execution_count": 156,
   "metadata": {},
   "outputs": [],
   "source": [
    "imp_features = list(zip(dt_8.feature_importances_, features))"
   ]
  },
  {
   "cell_type": "code",
   "execution_count": 157,
   "metadata": {},
   "outputs": [
    {
     "data": {
      "text/plain": [
       "[(0.0, 'x0'), (0.0017178907147957524, 'y0')]"
      ]
     },
     "execution_count": 157,
     "metadata": {},
     "output_type": "execute_result"
    }
   ],
   "source": [
    "imp_features[:2]"
   ]
  },
  {
   "cell_type": "code",
   "execution_count": 158,
   "metadata": {},
   "outputs": [],
   "source": [
    "imp_features.sort(reverse=True)"
   ]
  },
  {
   "cell_type": "code",
   "execution_count": 159,
   "metadata": {},
   "outputs": [
    {
     "data": {
      "text/plain": [
       "[(0.33040484928175073, 'x50'),\n",
       " (0.08995881431599788, 'y48'),\n",
       " (0.08831447209293988, 'y29')]"
      ]
     },
     "execution_count": 159,
     "metadata": {},
     "output_type": "execute_result"
    }
   ],
   "source": [
    "imp_features[:3]"
   ]
  },
  {
   "cell_type": "code",
   "execution_count": 160,
   "metadata": {},
   "outputs": [
    {
     "data": {
      "text/plain": [
       "-0.22101241970021418"
      ]
     },
     "execution_count": 160,
     "metadata": {},
     "output_type": "execute_result"
    }
   ],
   "source": [
    "mean_x_smiling[50]"
   ]
  },
  {
   "cell_type": "code",
   "execution_count": 161,
   "metadata": {},
   "outputs": [
    {
     "data": {
      "text/plain": [
       "0.039740471092077095"
      ]
     },
     "execution_count": 161,
     "metadata": {},
     "output_type": "execute_result"
    }
   ],
   "source": [
    "mean_y_smiling[50]"
   ]
  },
  {
   "cell_type": "code",
   "execution_count": 162,
   "metadata": {},
   "outputs": [
    {
     "data": {
      "text/plain": [
       "-0.18105638945233268"
      ]
     },
     "execution_count": 162,
     "metadata": {},
     "output_type": "execute_result"
    }
   ],
   "source": [
    "mean_x_not_smiling[50]"
   ]
  },
  {
   "cell_type": "code",
   "execution_count": 163,
   "metadata": {},
   "outputs": [
    {
     "data": {
      "text/plain": [
       "0.04017403651115618"
      ]
     },
     "execution_count": 163,
     "metadata": {},
     "output_type": "execute_result"
    }
   ],
   "source": [
    "mean_y_not_smiling[50]"
   ]
  },
  {
   "cell_type": "code",
   "execution_count": 164,
   "metadata": {},
   "outputs": [],
   "source": [
    "data_path_eval = os.path.join(os.getcwd(), 'data', 'classification_eval_1.csv')"
   ]
  },
  {
   "cell_type": "code",
   "execution_count": 165,
   "metadata": {},
   "outputs": [],
   "source": [
    "classification_eval_1 = pd.read_csv(data_path_eval, delimiter=',')"
   ]
  },
  {
   "cell_type": "code",
   "execution_count": 166,
   "metadata": {},
   "outputs": [
    {
     "data": {
      "text/html": [
       "<div>\n",
       "<style scoped>\n",
       "    .dataframe tbody tr th:only-of-type {\n",
       "        vertical-align: middle;\n",
       "    }\n",
       "\n",
       "    .dataframe tbody tr th {\n",
       "        vertical-align: top;\n",
       "    }\n",
       "\n",
       "    .dataframe thead th {\n",
       "        text-align: right;\n",
       "    }\n",
       "</style>\n",
       "<table border=\"1\" class=\"dataframe\">\n",
       "  <thead>\n",
       "    <tr style=\"text-align: right;\">\n",
       "      <th></th>\n",
       "      <th>gt</th>\n",
       "      <th>alg_1</th>\n",
       "      <th>alg_2</th>\n",
       "      <th>alg_3</th>\n",
       "      <th>alg_4</th>\n",
       "    </tr>\n",
       "  </thead>\n",
       "  <tbody>\n",
       "    <tr>\n",
       "      <th>0</th>\n",
       "      <td>0</td>\n",
       "      <td>0.051302</td>\n",
       "      <td>0.000000</td>\n",
       "      <td>0.821882</td>\n",
       "      <td>0.705028</td>\n",
       "    </tr>\n",
       "    <tr>\n",
       "      <th>1</th>\n",
       "      <td>0</td>\n",
       "      <td>0.695441</td>\n",
       "      <td>1.000000</td>\n",
       "      <td>1.000000</td>\n",
       "      <td>0.741789</td>\n",
       "    </tr>\n",
       "    <tr>\n",
       "      <th>2</th>\n",
       "      <td>1</td>\n",
       "      <td>0.471121</td>\n",
       "      <td>0.913034</td>\n",
       "      <td>0.000000</td>\n",
       "      <td>1.000000</td>\n",
       "    </tr>\n",
       "    <tr>\n",
       "      <th>3</th>\n",
       "      <td>1</td>\n",
       "      <td>1.000000</td>\n",
       "      <td>1.000000</td>\n",
       "      <td>0.000000</td>\n",
       "      <td>1.000000</td>\n",
       "    </tr>\n",
       "    <tr>\n",
       "      <th>4</th>\n",
       "      <td>0</td>\n",
       "      <td>0.857339</td>\n",
       "      <td>0.000000</td>\n",
       "      <td>0.296797</td>\n",
       "      <td>0.809736</td>\n",
       "    </tr>\n",
       "  </tbody>\n",
       "</table>\n",
       "</div>"
      ],
      "text/plain": [
       "   gt     alg_1     alg_2     alg_3     alg_4\n",
       "0   0  0.051302  0.000000  0.821882  0.705028\n",
       "1   0  0.695441  1.000000  1.000000  0.741789\n",
       "2   1  0.471121  0.913034  0.000000  1.000000\n",
       "3   1  1.000000  1.000000  0.000000  1.000000\n",
       "4   0  0.857339  0.000000  0.296797  0.809736"
      ]
     },
     "execution_count": 166,
     "metadata": {},
     "output_type": "execute_result"
    }
   ],
   "source": [
    "classification_eval_1.head()"
   ]
  },
  {
   "cell_type": "code",
   "execution_count": 167,
   "metadata": {},
   "outputs": [
    {
     "name": "stdout",
     "output_type": "stream",
     "text": [
      "<class 'pandas.core.frame.DataFrame'>\n",
      "RangeIndex: 1000 entries, 0 to 999\n",
      "Data columns (total 5 columns):\n",
      "gt       1000 non-null int64\n",
      "alg_1    1000 non-null float64\n",
      "alg_2    1000 non-null float64\n",
      "alg_3    1000 non-null float64\n",
      "alg_4    1000 non-null float64\n",
      "dtypes: float64(4), int64(1)\n",
      "memory usage: 39.1 KB\n"
     ]
    }
   ],
   "source": [
    "classification_eval_1.info()"
   ]
  },
  {
   "cell_type": "code",
   "execution_count": 171,
   "metadata": {},
   "outputs": [],
   "source": [
    "alg_1_T = np.array([int(x>=0.5) for x in classification_eval_1['alg_1']])"
   ]
  },
  {
   "cell_type": "code",
   "execution_count": 172,
   "metadata": {},
   "outputs": [
    {
     "data": {
      "text/plain": [
       "(1000,)"
      ]
     },
     "execution_count": 172,
     "metadata": {},
     "output_type": "execute_result"
    }
   ],
   "source": [
    "alg_1_T.shape"
   ]
  },
  {
   "cell_type": "code",
   "execution_count": 173,
   "metadata": {},
   "outputs": [
    {
     "data": {
      "text/plain": [
       "array([0, 1, 0, 1, 1])"
      ]
     },
     "execution_count": 173,
     "metadata": {},
     "output_type": "execute_result"
    }
   ],
   "source": [
    "alg_1_T[:5]"
   ]
  },
  {
   "cell_type": "code",
   "execution_count": 174,
   "metadata": {},
   "outputs": [],
   "source": [
    "alg_2_T = np.array([int(x>=0.5) for x in classification_eval_1['alg_2']])"
   ]
  },
  {
   "cell_type": "code",
   "execution_count": 175,
   "metadata": {},
   "outputs": [
    {
     "data": {
      "text/plain": [
       "array([0, 1, 1, 1, 0])"
      ]
     },
     "execution_count": 175,
     "metadata": {},
     "output_type": "execute_result"
    }
   ],
   "source": [
    "alg_2_T[:5]"
   ]
  },
  {
   "cell_type": "code",
   "execution_count": 176,
   "metadata": {},
   "outputs": [],
   "source": [
    "alg_3_T = np.array([int(x>=0.5) for x in classification_eval_1['alg_3']])"
   ]
  },
  {
   "cell_type": "code",
   "execution_count": 177,
   "metadata": {},
   "outputs": [],
   "source": [
    "alg_4_T = np.array([int(x>=0.5) for x in classification_eval_1['alg_4']])"
   ]
  },
  {
   "cell_type": "code",
   "execution_count": 178,
   "metadata": {},
   "outputs": [],
   "source": [
    "gt = np.array(classification_eval_1['gt'])"
   ]
  },
  {
   "cell_type": "code",
   "execution_count": 179,
   "metadata": {},
   "outputs": [
    {
     "data": {
      "text/plain": [
       "(1000,)"
      ]
     },
     "execution_count": 179,
     "metadata": {},
     "output_type": "execute_result"
    }
   ],
   "source": [
    "gt.shape"
   ]
  },
  {
   "cell_type": "code",
   "execution_count": 180,
   "metadata": {},
   "outputs": [
    {
     "data": {
      "text/plain": [
       "array([0, 0, 1, 1, 0])"
      ]
     },
     "execution_count": 180,
     "metadata": {},
     "output_type": "execute_result"
    }
   ],
   "source": [
    "gt[:5]"
   ]
  },
  {
   "cell_type": "code",
   "execution_count": 183,
   "metadata": {},
   "outputs": [],
   "source": [
    "alg_1_T_count = [int(alg_1_T[i] == gt[i]) for i in range(len(gt))].count(1)"
   ]
  },
  {
   "cell_type": "code",
   "execution_count": 184,
   "metadata": {},
   "outputs": [
    {
     "data": {
      "text/plain": [
       "616"
      ]
     },
     "execution_count": 184,
     "metadata": {},
     "output_type": "execute_result"
    }
   ],
   "source": [
    "alg_1_T_count"
   ]
  },
  {
   "cell_type": "code",
   "execution_count": 185,
   "metadata": {},
   "outputs": [],
   "source": [
    "alg_2_T_count = [int(alg_2_T[i] == gt[i]) for i in range(len(gt))].count(1)"
   ]
  },
  {
   "cell_type": "code",
   "execution_count": 186,
   "metadata": {},
   "outputs": [
    {
     "data": {
      "text/plain": [
       "550"
      ]
     },
     "execution_count": 186,
     "metadata": {},
     "output_type": "execute_result"
    }
   ],
   "source": [
    "alg_2_T_count"
   ]
  },
  {
   "cell_type": "code",
   "execution_count": 187,
   "metadata": {},
   "outputs": [],
   "source": [
    "alg_3_T_count = [int(alg_3_T[i] == gt[i]) for i in range(len(gt))].count(1)"
   ]
  },
  {
   "cell_type": "code",
   "execution_count": 188,
   "metadata": {},
   "outputs": [
    {
     "data": {
      "text/plain": [
       "321"
      ]
     },
     "execution_count": 188,
     "metadata": {},
     "output_type": "execute_result"
    }
   ],
   "source": [
    "alg_3_T_count"
   ]
  },
  {
   "cell_type": "code",
   "execution_count": 189,
   "metadata": {},
   "outputs": [],
   "source": [
    "alg_4_T_count = [int(alg_4_T[i] == gt[i]) for i in range(len(gt))].count(1)"
   ]
  },
  {
   "cell_type": "code",
   "execution_count": 190,
   "metadata": {},
   "outputs": [
    {
     "data": {
      "text/plain": [
       "329"
      ]
     },
     "execution_count": 190,
     "metadata": {},
     "output_type": "execute_result"
    }
   ],
   "source": [
    "alg_4_T_count"
   ]
  },
  {
   "cell_type": "code",
   "execution_count": 191,
   "metadata": {},
   "outputs": [],
   "source": [
    "from sklearn.metrics import roc_auc_score"
   ]
  },
  {
   "cell_type": "code",
   "execution_count": 192,
   "metadata": {},
   "outputs": [
    {
     "data": {
      "text/plain": [
       "0.6799052085659694"
      ]
     },
     "execution_count": 192,
     "metadata": {},
     "output_type": "execute_result"
    }
   ],
   "source": [
    "roc_1 = roc_auc_score(gt, alg_1_T)\n",
    "roc_1"
   ]
  },
  {
   "cell_type": "code",
   "execution_count": 193,
   "metadata": {},
   "outputs": [
    {
     "data": {
      "text/plain": [
       "0.599729521824363"
      ]
     },
     "execution_count": 193,
     "metadata": {},
     "output_type": "execute_result"
    }
   ],
   "source": [
    "roc_2 = roc_auc_score(gt, alg_2_T)\n",
    "roc_2"
   ]
  },
  {
   "cell_type": "code",
   "execution_count": 194,
   "metadata": {},
   "outputs": [
    {
     "data": {
      "text/plain": [
       "0.20112781954887216"
      ]
     },
     "execution_count": 194,
     "metadata": {},
     "output_type": "execute_result"
    }
   ],
   "source": [
    "roc_3 = roc_auc_score(gt, alg_3_T)\n",
    "roc_3"
   ]
  },
  {
   "cell_type": "code",
   "execution_count": 195,
   "metadata": {},
   "outputs": [
    {
     "data": {
      "text/plain": [
       "0.5795739348370927"
      ]
     },
     "execution_count": 195,
     "metadata": {},
     "output_type": "execute_result"
    }
   ],
   "source": [
    "roc_4 = roc_auc_score(gt, alg_4_T)\n",
    "roc_4"
   ]
  },
  {
   "cell_type": "code",
   "execution_count": 200,
   "metadata": {},
   "outputs": [
    {
     "data": {
      "text/plain": [
       "0.0"
      ]
     },
     "execution_count": 200,
     "metadata": {},
     "output_type": "execute_result"
    }
   ],
   "source": [
    "roc_auc_score(gt, [int(not(bool(x))) for x in gt])"
   ]
  },
  {
   "cell_type": "code",
   "execution_count": 201,
   "metadata": {},
   "outputs": [],
   "source": [
    "from sklearn.metrics import roc_curve"
   ]
  },
  {
   "cell_type": "code",
   "execution_count": 206,
   "metadata": {},
   "outputs": [],
   "source": [
    "from sklearn.metrics import auc"
   ]
  },
  {
   "cell_type": "code",
   "execution_count": 236,
   "metadata": {},
   "outputs": [],
   "source": [
    "def ROC(score):\n",
    "    # false positive rate\n",
    "    fpr = []\n",
    "    # true positive rate\n",
    "    tpr = []\n",
    "    # Iterate thresholds from 0.0, 0.01, ... 1.0\n",
    "    thresholds = np.arange(0.0, 1.01, .01)\n",
    "\n",
    "    # get number of positive and negative examples in the dataset\n",
    "    P = sum(gt)\n",
    "    N = len(gt) - P\n",
    "\n",
    "    # iterate through all thresholds and determine fraction of true positives\n",
    "    # and false positives found at this threshold\n",
    "    for thresh in thresholds:\n",
    "        FP=0\n",
    "        TP=0\n",
    "        for i in range(len(score)):\n",
    "            if (score[i] > thresh):\n",
    "                if gt[i] == 1:\n",
    "                    TP = TP + 1\n",
    "                if gt[i] == 0:\n",
    "                    FP = FP + 1\n",
    "        fpr.append(FP/float(N))\n",
    "        tpr.append(TP/float(P))\n",
    "\n",
    "    xc = fpr[0]\n",
    "    yc = tpr[0]\n",
    "    \n",
    "    Cx = np.linspace(xc, 1.00, num=200, endpoint=False)\n",
    "    Cy = 200 * [yc]\n",
    "    \n",
    "    return [fpr, tpr, Cx, Cy]"
   ]
  },
  {
   "cell_type": "code",
   "execution_count": 234,
   "metadata": {},
   "outputs": [],
   "source": [
    "score1 = np.array(classification_eval_1['alg_1'])\n",
    "score2 = np.array(classification_eval_1['alg_2'])\n",
    "score3 = np.array(classification_eval_1['alg_3'])\n",
    "score4 = np.array(classification_eval_1['alg_4'])"
   ]
  },
  {
   "cell_type": "code",
   "execution_count": 242,
   "metadata": {},
   "outputs": [
    {
     "data": {
      "image/png": "[encoded data removed]",
      "text/plain": [
       "<Figure size 864x576 with 1 Axes>"
      ]
     },
     "metadata": {
      "needs_background": "light"
     },
     "output_type": "display_data"
    }
   ],
   "source": [
    "[fpr1, tpr1, Cx1, Cy1] = ROC(score1)\n",
    "[fpr2, tpr2, Cx2, Cy2] = ROC(score2)\n",
    "[fpr3, tpr3, Cx3, Cy3] = ROC(score3)\n",
    "[fpr4, tpr4, Cx4, Cy4] = ROC(score4)\n",
    "\n",
    "plt.figure(figsize=(8,8))    \n",
    "plt.plot(fpr1, tpr1, color='green', label='model 1')\n",
    "plt.plot(Cx1, Cy1, color='green')\n",
    "\n",
    "plt.plot(fpr2, tpr2, color='red', label='model 2')\n",
    "plt.plot(Cx2, Cy2, color='red')\n",
    "\n",
    "plt.plot(fpr3, tpr3, color='blue', label='model 3')\n",
    "plt.plot(Cx3, Cy3, color='green')\n",
    "\n",
    "plt.plot(fpr4, tpr4, color='black', label='model 4')\n",
    "plt.plot(Cx4, Cy4, color='black')\n",
    "\n",
    "plt.plot([0, 1], [0, 1], color='navy', linestyle='--')\n",
    "plt.xlim([0.0, 1.0])\n",
    "plt.ylim([0.0, 1.05])\n",
    "\n",
    "plt.xlabel('False Positive Rate')\n",
    "plt.ylabel('True Positive Rate')\n",
    "plt.title('Receiver Operating Characteristic for various models')\n",
    "plt.legend(loc=\"lower right\")\n",
    "\n",
    "plt.savefig('ROC_curves.svg')\n",
    "\n",
    "plt.show()"
   ]
  },
  {
   "cell_type": "code",
   "execution_count": null,
   "metadata": {},
   "outputs": [],
   "source": []
  }
 ],
 "metadata": {
  "kernelspec": {
   "display_name": "Python 3",
   "language": "python",
   "name": "python3"
  },
  "language_info": {
   "codemirror_mode": {
    "name": "ipython",
    "version": 3
   },
   "file_extension": ".py",
   "mimetype": "text/x-python",
   "name": "python",
   "nbconvert_exporter": "python",
   "pygments_lexer": "ipython3",
   "version": "3.7.7"
  }
 },
 "nbformat": 4,
 "nbformat_minor": 4
}
