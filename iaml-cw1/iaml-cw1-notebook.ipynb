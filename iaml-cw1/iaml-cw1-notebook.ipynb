{
 "cells": [
  {
   "cell_type": "code",
   "execution_count": 184,
   "metadata": {},
   "outputs": [],
   "source": [
    "import os\n",
    "import numpy as np\n",
    "import pandas as pd\n",
    "import matplotlib.pyplot as plt\n",
    "import seaborn as sns\n",
    "from sklearn.linear_model import LinearRegression"
   ]
  },
  {
   "cell_type": "code",
   "execution_count": 185,
   "metadata": {},
   "outputs": [],
   "source": [
    "data_path = os.path.join(os.getcwd(),'data','regression_part1.csv')\n",
    "regression_1 = pd.read_csv(data_path, delimiter=',')"
   ]
  },
  {
   "cell_type": "code",
   "execution_count": 186,
   "metadata": {
    "scrolled": true
   },
   "outputs": [
    {
     "name": "stdout",
     "output_type": "stream",
     "text": [
      "<class 'pandas.core.frame.DataFrame'>\n",
      "RangeIndex: 50 entries, 0 to 49\n",
      "Data columns (total 2 columns):\n",
      "revision_time    50 non-null float64\n",
      "exam_score       50 non-null float64\n",
      "dtypes: float64(2)\n",
      "memory usage: 880.0 bytes\n"
     ]
    }
   ],
   "source": [
    "regression_1.info()"
   ]
  },
  {
   "cell_type": "code",
   "execution_count": 187,
   "metadata": {
    "scrolled": true
   },
   "outputs": [
    {
     "data": {
      "text/html": [
       "<div>\n",
       "<style scoped>\n",
       "    .dataframe tbody tr th:only-of-type {\n",
       "        vertical-align: middle;\n",
       "    }\n",
       "\n",
       "    .dataframe tbody tr th {\n",
       "        vertical-align: top;\n",
       "    }\n",
       "\n",
       "    .dataframe thead th {\n",
       "        text-align: right;\n",
       "    }\n",
       "</style>\n",
       "<table border=\"1\" class=\"dataframe\">\n",
       "  <thead>\n",
       "    <tr style=\"text-align: right;\">\n",
       "      <th></th>\n",
       "      <th>revision_time</th>\n",
       "      <th>exam_score</th>\n",
       "    </tr>\n",
       "  </thead>\n",
       "  <tbody>\n",
       "    <tr>\n",
       "      <th>0</th>\n",
       "      <td>2.723</td>\n",
       "      <td>27.682</td>\n",
       "    </tr>\n",
       "    <tr>\n",
       "      <th>1</th>\n",
       "      <td>2.844</td>\n",
       "      <td>22.998</td>\n",
       "    </tr>\n",
       "    <tr>\n",
       "      <th>2</th>\n",
       "      <td>3.303</td>\n",
       "      <td>19.765</td>\n",
       "    </tr>\n",
       "    <tr>\n",
       "      <th>3</th>\n",
       "      <td>3.588</td>\n",
       "      <td>24.481</td>\n",
       "    </tr>\n",
       "    <tr>\n",
       "      <th>4</th>\n",
       "      <td>4.050</td>\n",
       "      <td>22.974</td>\n",
       "    </tr>\n",
       "  </tbody>\n",
       "</table>\n",
       "</div>"
      ],
      "text/plain": [
       "   revision_time  exam_score\n",
       "0          2.723      27.682\n",
       "1          2.844      22.998\n",
       "2          3.303      19.765\n",
       "3          3.588      24.481\n",
       "4          4.050      22.974"
      ]
     },
     "execution_count": 187,
     "metadata": {},
     "output_type": "execute_result"
    }
   ],
   "source": [
    "regression_1.head()"
   ]
  },
  {
   "cell_type": "code",
   "execution_count": 188,
   "metadata": {},
   "outputs": [],
   "source": [
    "training_inputs = regression_1.iloc[:].values"
   ]
  },
  {
   "cell_type": "code",
   "execution_count": 189,
   "metadata": {},
   "outputs": [
    {
     "data": {
      "text/plain": [
       "numpy.ndarray"
      ]
     },
     "execution_count": 189,
     "metadata": {},
     "output_type": "execute_result"
    }
   ],
   "source": [
    "type(training_inputs)"
   ]
  },
  {
   "cell_type": "code",
   "execution_count": 190,
   "metadata": {},
   "outputs": [
    {
     "data": {
      "text/plain": [
       "50"
      ]
     },
     "execution_count": 190,
     "metadata": {},
     "output_type": "execute_result"
    }
   ],
   "source": [
    "len(training_inputs)"
   ]
  },
  {
   "cell_type": "code",
   "execution_count": 191,
   "metadata": {},
   "outputs": [
    {
     "data": {
      "text/plain": [
       "array([ 4.05 , 22.974])"
      ]
     },
     "execution_count": 191,
     "metadata": {},
     "output_type": "execute_result"
    }
   ],
   "source": [
    "training_inputs[4]"
   ]
  },
  {
   "cell_type": "code",
   "execution_count": 192,
   "metadata": {},
   "outputs": [
    {
     "data": {
      "text/plain": [
       "(50, 2)"
      ]
     },
     "execution_count": 192,
     "metadata": {},
     "output_type": "execute_result"
    }
   ],
   "source": [
    "training_inputs.shape"
   ]
  },
  {
   "cell_type": "code",
   "execution_count": 193,
   "metadata": {},
   "outputs": [
    {
     "data": {
      "text/plain": [
       "(50, 3)"
      ]
     },
     "execution_count": 193,
     "metadata": {},
     "output_type": "execute_result"
    }
   ],
   "source": [
    "l = [[1,x,y] for [x,y] in training_inputs]\n",
    "X = np.array(l, dtype=float)\n",
    "np.shape(X)"
   ]
  },
  {
   "cell_type": "code",
   "execution_count": 194,
   "metadata": {},
   "outputs": [
    {
     "data": {
      "text/plain": [
       "array([ 1.   ,  2.723, 27.682])"
      ]
     },
     "execution_count": 194,
     "metadata": {},
     "output_type": "execute_result"
    }
   ],
   "source": [
    "X[0]"
   ]
  },
  {
   "cell_type": "code",
   "execution_count": 195,
   "metadata": {},
   "outputs": [
    {
     "data": {
      "text/plain": [
       "(50, 2)"
      ]
     },
     "execution_count": 195,
     "metadata": {},
     "output_type": "execute_result"
    }
   ],
   "source": [
    "phi_revision_time = X[:,0:2]\n",
    "phi_revision_time.shape"
   ]
  },
  {
   "cell_type": "code",
   "execution_count": 196,
   "metadata": {},
   "outputs": [
    {
     "data": {
      "text/plain": [
       "array([1.   , 2.723])"
      ]
     },
     "execution_count": 196,
     "metadata": {},
     "output_type": "execute_result"
    }
   ],
   "source": [
    "phi_revision_time[0]"
   ]
  },
  {
   "cell_type": "code",
   "execution_count": 197,
   "metadata": {},
   "outputs": [
    {
     "data": {
      "text/plain": [
       "(50, 1)"
      ]
     },
     "execution_count": 197,
     "metadata": {},
     "output_type": "execute_result"
    }
   ],
   "source": [
    "y = X[:,2:3]\n",
    "y.shape"
   ]
  },
  {
   "cell_type": "code",
   "execution_count": 198,
   "metadata": {},
   "outputs": [
    {
     "data": {
      "text/plain": [
       "array([27.682])"
      ]
     },
     "execution_count": 198,
     "metadata": {},
     "output_type": "execute_result"
    }
   ],
   "source": [
    "y[0]"
   ]
  },
  {
   "cell_type": "code",
   "execution_count": 199,
   "metadata": {},
   "outputs": [],
   "source": [
    "reg = LinearRegression(fit_intercept=False).fit(phi_revision_time, y)"
   ]
  },
  {
   "cell_type": "code",
   "execution_count": 200,
   "metadata": {},
   "outputs": [
    {
     "data": {
      "text/plain": [
       "array([[17.89768026,  1.44114091]])"
      ]
     },
     "execution_count": 200,
     "metadata": {},
     "output_type": "execute_result"
    }
   ],
   "source": [
    "reg.coef_"
   ]
  },
  {
   "cell_type": "code",
   "execution_count": 201,
   "metadata": {},
   "outputs": [
    {
     "data": {
      "text/plain": [
       "array([16,  1])"
      ]
     },
     "execution_count": 201,
     "metadata": {},
     "output_type": "execute_result"
    }
   ],
   "source": [
    "a = np.subtract(np.array([1,2]),np.array([5,3]))\n",
    "np.square(a)"
   ]
  },
  {
   "cell_type": "code",
   "execution_count": 202,
   "metadata": {},
   "outputs": [
    {
     "data": {
      "image/png": "[encoded data removed]",
      "text/plain": [
       "<Figure size 720x432 with 1 Axes>"
      ]
     },
     "metadata": {},
     "output_type": "display_data"
    }
   ],
   "source": [
    "plt.scatter(X[:,1:2], y, color = \"black\")\n",
    "plt.plot(X[:,1:2], reg.predict(X[:,0:2]), color = \"green\")\n",
    "plt.title(\"Plot of Exam Score versus Revision Time\")\n",
    "plt.xlabel(\"Revision Time\")\n",
    "plt.ylabel(\"Exam Score\")\n",
    "plt.savefig('exam_score_vs_revision_time.svg')\n",
    "plt.show()"
   ]
  },
  {
   "cell_type": "code",
   "execution_count": 203,
   "metadata": {},
   "outputs": [
    {
     "data": {
      "text/plain": [
       "array([17.89768026,  1.44114091])"
      ]
     },
     "execution_count": 203,
     "metadata": {},
     "output_type": "execute_result"
    }
   ],
   "source": [
    "phi = np.array([[1.,x] for [x,y] in regression_1[:].values])\n",
    "y = np.array([y for [x,y] in regression_1[:].values])\n",
    "phi_T_phi_inv = np.linalg.inv(phi.T.dot(phi))\n",
    "w = (phi_T_phi_inv.dot(phi.T)).dot(y)\n",
    "w"
   ]
  },
  {
   "cell_type": "code",
   "execution_count": 204,
   "metadata": {},
   "outputs": [
    {
     "data": {
      "text/plain": [
       "array([1.   , 2.723])"
      ]
     },
     "execution_count": 204,
     "metadata": {},
     "output_type": "execute_result"
    }
   ],
   "source": [
    "phi_revision_time[0]"
   ]
  },
  {
   "cell_type": "code",
   "execution_count": 205,
   "metadata": {},
   "outputs": [
    {
     "data": {
      "text/plain": [
       "(50, 2)"
      ]
     },
     "execution_count": 205,
     "metadata": {},
     "output_type": "execute_result"
    }
   ],
   "source": [
    "regression_1[:].values.shape"
   ]
  },
  {
   "cell_type": "code",
   "execution_count": 206,
   "metadata": {},
   "outputs": [
    {
     "data": {
      "text/plain": [
       "array([ 2.723, 27.682])"
      ]
     },
     "execution_count": 206,
     "metadata": {},
     "output_type": "execute_result"
    }
   ],
   "source": [
    "regression_1[:].values[0]"
   ]
  },
  {
   "cell_type": "code",
   "execution_count": 207,
   "metadata": {},
   "outputs": [],
   "source": [
    "import copy\n",
    "w_cf = copy.deepcopy(w)\n",
    "w_skl = copy.deepcopy(reg.coef_)"
   ]
  },
  {
   "cell_type": "code",
   "execution_count": 208,
   "metadata": {},
   "outputs": [
    {
     "data": {
      "text/plain": [
       "array([17.89768026,  1.44114091])"
      ]
     },
     "execution_count": 208,
     "metadata": {},
     "output_type": "execute_result"
    }
   ],
   "source": [
    "w_cf"
   ]
  },
  {
   "cell_type": "code",
   "execution_count": 209,
   "metadata": {},
   "outputs": [
    {
     "data": {
      "text/plain": [
       "array([[17.89768026,  1.44114091]])"
      ]
     },
     "execution_count": 209,
     "metadata": {},
     "output_type": "execute_result"
    }
   ],
   "source": [
    "w_skl"
   ]
  },
  {
   "cell_type": "code",
   "execution_count": 210,
   "metadata": {},
   "outputs": [
    {
     "data": {
      "text/plain": [
       "50"
      ]
     },
     "execution_count": 210,
     "metadata": {},
     "output_type": "execute_result"
    }
   ],
   "source": [
    "n = len(regression_1)\n",
    "n"
   ]
  },
  {
   "cell_type": "code",
   "execution_count": 211,
   "metadata": {},
   "outputs": [
    {
     "data": {
      "text/plain": [
       "30.985472614541287"
      ]
     },
     "execution_count": 211,
     "metadata": {},
     "output_type": "execute_result"
    }
   ],
   "source": [
    "residuals = np.subtract(y, phi.dot(w_cf))\n",
    "mse_cf =(1/n) * sum(np.square(residuals))\n",
    "mse_cf"
   ]
  },
  {
   "cell_type": "code",
   "execution_count": 212,
   "metadata": {},
   "outputs": [
    {
     "data": {
      "text/plain": [
       "(50,)"
      ]
     },
     "execution_count": 212,
     "metadata": {},
     "output_type": "execute_result"
    }
   ],
   "source": [
    "\n",
    "r = np.subtract(y, reg.predict(X[:,0:2]))\n",
    "y.reshape(50,1)\n",
    "y.shape"
   ]
  },
  {
   "cell_type": "code",
   "execution_count": 213,
   "metadata": {},
   "outputs": [
    {
     "data": {
      "text/plain": [
       "(50, 1)"
      ]
     },
     "execution_count": 213,
     "metadata": {},
     "output_type": "execute_result"
    }
   ],
   "source": [
    "reg.predict(X[:,0:2]).reshape(50,1)\n",
    "reg.predict(X[:,0:2]).shape"
   ]
  },
  {
   "cell_type": "code",
   "execution_count": 214,
   "metadata": {},
   "outputs": [
    {
     "data": {
      "text/plain": [
       "array([27.682, 22.998, 19.765, 24.481, 22.974, 27.086, 26.136, 27.038,\n",
       "       31.283, 14.731, 28.946, 26.901, 35.299, 24.228, 34.651, 34.667,\n",
       "       34.848, 37.266, 43.491, 45.201, 40.924, 48.321, 49.574, 47.239,\n",
       "       45.582, 53.182, 39.956, 52.697, 54.9  , 66.065, 60.068, 65.432,\n",
       "       47.34 , 66.051, 62.916, 62.892, 52.066, 75.787, 71.807, 63.339,\n",
       "       59.794, 63.983, 68.714, 70.767, 88.973, 76.957, 78.698, 90.384,\n",
       "       94.945, 86.968])"
      ]
     },
     "execution_count": 214,
     "metadata": {},
     "output_type": "execute_result"
    }
   ],
   "source": [
    "y"
   ]
  },
  {
   "cell_type": "code",
   "execution_count": 215,
   "metadata": {},
   "outputs": [
    {
     "data": {
      "text/plain": [
       "(50,)"
      ]
     },
     "execution_count": 215,
     "metadata": {},
     "output_type": "execute_result"
    }
   ],
   "source": [
    "y_hat = [x for [x] in reg.predict(X[:,0:2])]\n",
    "y_hat = np.array(y_hat)\n",
    "y_hat.shape"
   ]
  },
  {
   "cell_type": "code",
   "execution_count": 216,
   "metadata": {},
   "outputs": [
    {
     "data": {
      "text/plain": [
       "30.9854726145413"
      ]
     },
     "execution_count": 216,
     "metadata": {},
     "output_type": "execute_result"
    }
   ],
   "source": [
    "residuals = np.subtract(y, y_hat)\n",
    "mse_skl = (1/n) * sum(np.square(residuals))\n",
    "mse_skl"
   ]
  },
  {
   "cell_type": "code",
   "execution_count": 217,
   "metadata": {},
   "outputs": [
    {
     "data": {
      "text/plain": [
       "array([21.82190694, 21.99628499, 22.65776867, 23.06849383, 23.73430093,\n",
       "       23.77753515, 26.07471376, 26.63099415, 27.04460159, 27.72482009,\n",
       "       28.12689841, 28.72785416, 29.93985366, 31.17635256, 32.8336646 ,\n",
       "       33.04407117, 35.3383675 , 36.90200538, 41.95320425, 42.36392941,\n",
       "       44.31379306, 46.14260086, 47.1831046 , 48.56515873, 48.99461872,\n",
       "       49.31166972, 49.67195494, 53.85270471, 54.13805061, 56.08070855,\n",
       "       56.13835418, 59.23968941, 59.77002927, 62.63501739, 64.26783003,\n",
       "       64.30674084, 64.33988708, 64.400415  , 65.03884042, 65.29104007,\n",
       "       67.60118895, 68.17764531, 71.65079489, 76.80431477, 77.34330147,\n",
       "       83.05598402, 83.32115394, 85.52033496, 86.81015607, 87.08829627])"
      ]
     },
     "execution_count": 217,
     "metadata": {},
     "output_type": "execute_result"
    }
   ],
   "source": [
    "y_hat"
   ]
  },
  {
   "cell_type": "code",
   "execution_count": 218,
   "metadata": {},
   "outputs": [],
   "source": [
    "w_0 = 20\n",
    "W_1 = np.linspace(-2,2,100)"
   ]
  },
  {
   "cell_type": "code",
   "execution_count": 219,
   "metadata": {},
   "outputs": [
    {
     "data": {
      "text/plain": [
       "100"
      ]
     },
     "execution_count": 219,
     "metadata": {},
     "output_type": "execute_result"
    }
   ],
   "source": [
    "len(W_1)"
   ]
  },
  {
   "cell_type": "code",
   "execution_count": 220,
   "metadata": {},
   "outputs": [
    {
     "data": {
      "text/plain": [
       "array([1.   , 2.723])"
      ]
     },
     "execution_count": 220,
     "metadata": {},
     "output_type": "execute_result"
    }
   ],
   "source": [
    "W = [[20,w1] for w1 in W_1]\n",
    "phi[0]"
   ]
  },
  {
   "cell_type": "code",
   "execution_count": 221,
   "metadata": {},
   "outputs": [],
   "source": [
    "errors = []\n",
    "for w in W:\n",
    "    y_hat = phi.dot(w)\n",
    "    residuals = np.subtract(y, y_hat)\n",
    "    error = (1/n) * sum(np.square(residuals))\n",
    "    errors.append((w[1], error))"
   ]
  },
  {
   "cell_type": "code",
   "execution_count": 222,
   "metadata": {},
   "outputs": [
    {
     "data": {
      "text/plain": [
       "(-2.0, 7830.3758159)"
      ]
     },
     "execution_count": 222,
     "metadata": {},
     "output_type": "execute_result"
    }
   ],
   "source": [
    "errors[0]"
   ]
  },
  {
   "cell_type": "code",
   "execution_count": 223,
   "metadata": {},
   "outputs": [
    {
     "data": {
      "text/plain": [
       "100"
      ]
     },
     "execution_count": 223,
     "metadata": {},
     "output_type": "execute_result"
    }
   ],
   "source": [
    "len(errors)"
   ]
  },
  {
   "cell_type": "code",
   "execution_count": 224,
   "metadata": {},
   "outputs": [
    {
     "data": {
      "text/plain": [
       "(1.0303030303030307, 112.71372403590425)"
      ]
     },
     "execution_count": 224,
     "metadata": {},
     "output_type": "execute_result"
    }
   ],
   "source": [
    "errors[75]"
   ]
  },
  {
   "cell_type": "code",
   "execution_count": 225,
   "metadata": {},
   "outputs": [
    {
     "data": {
      "text/plain": [
       "(1.2323232323232327, 45.78395850095901)"
      ]
     },
     "execution_count": 225,
     "metadata": {},
     "output_type": "execute_result"
    }
   ],
   "source": [
    "errors[80]"
   ]
  },
  {
   "cell_type": "code",
   "execution_count": 226,
   "metadata": {},
   "outputs": [
    {
     "data": {
      "text/plain": [
       "34.80182303967966"
      ]
     },
     "execution_count": 226,
     "metadata": {},
     "output_type": "execute_result"
    }
   ],
   "source": [
    "a = [x for (x,y) in errors]\n",
    "b = [y for (x,y) in errors]\n",
    "b[85]"
   ]
  },
  {
   "cell_type": "code",
   "execution_count": 227,
   "metadata": {},
   "outputs": [
    {
     "data": {
      "image/png": "[encoded data removed]",
      "text/plain": [
       "<Figure size 720x432 with 1 Axes>"
      ]
     },
     "metadata": {},
     "output_type": "display_data"
    }
   ],
   "source": [
    "plt.plot(a, b, color = \"green\")\n",
    "plt.title(\"Plot of Mean Squared Error versus w_1\")\n",
    "plt.xlabel(\"w_1\")\n",
    "plt.ylabel(\"Mean Squared Error\")\n",
    "plt.savefig('mse_w1.svg')\n",
    "plt.show()"
   ]
  },
  {
   "cell_type": "code",
   "execution_count": 228,
   "metadata": {},
   "outputs": [
    {
     "data": {
      "text/plain": [
       "27.682"
      ]
     },
     "execution_count": 228,
     "metadata": {},
     "output_type": "execute_result"
    }
   ],
   "source": [
    "y[0]"
   ]
  },
  {
   "cell_type": "code",
   "execution_count": 229,
   "metadata": {},
   "outputs": [],
   "source": [
    "from sklearn.preprocessing import PolynomialFeatures"
   ]
  },
  {
   "cell_type": "code",
   "execution_count": 230,
   "metadata": {},
   "outputs": [],
   "source": [
    "data_path = os.path.join(os.getcwd(),'data','regression_part2.csv')\n",
    "regression_2 = pd.read_csv(data_path, delimiter=',')"
   ]
  },
  {
   "cell_type": "code",
   "execution_count": 231,
   "metadata": {},
   "outputs": [],
   "source": [
    "training_inputs2 = regression_2.iloc[:].values"
   ]
  },
  {
   "cell_type": "code",
   "execution_count": 232,
   "metadata": {},
   "outputs": [
    {
     "data": {
      "text/plain": [
       "(25, 2)"
      ]
     },
     "execution_count": 232,
     "metadata": {},
     "output_type": "execute_result"
    }
   ],
   "source": [
    "l = [[x,y] for [x,y] in training_inputs2]\n",
    "X = np.array(l, dtype=float)\n",
    "np.shape(X)"
   ]
  },
  {
   "cell_type": "code",
   "execution_count": 233,
   "metadata": {},
   "outputs": [
    {
     "data": {
      "text/html": [
       "<div>\n",
       "<style scoped>\n",
       "    .dataframe tbody tr th:only-of-type {\n",
       "        vertical-align: middle;\n",
       "    }\n",
       "\n",
       "    .dataframe tbody tr th {\n",
       "        vertical-align: top;\n",
       "    }\n",
       "\n",
       "    .dataframe thead th {\n",
       "        text-align: right;\n",
       "    }\n",
       "</style>\n",
       "<table border=\"1\" class=\"dataframe\">\n",
       "  <thead>\n",
       "    <tr style=\"text-align: right;\">\n",
       "      <th></th>\n",
       "      <th>input</th>\n",
       "      <th>output</th>\n",
       "    </tr>\n",
       "  </thead>\n",
       "  <tbody>\n",
       "    <tr>\n",
       "      <th>0</th>\n",
       "      <td>2.728</td>\n",
       "      <td>9.088</td>\n",
       "    </tr>\n",
       "    <tr>\n",
       "      <th>1</th>\n",
       "      <td>3.244</td>\n",
       "      <td>12.786</td>\n",
       "    </tr>\n",
       "    <tr>\n",
       "      <th>2</th>\n",
       "      <td>-4.164</td>\n",
       "      <td>-10.016</td>\n",
       "    </tr>\n",
       "    <tr>\n",
       "      <th>3</th>\n",
       "      <td>4.875</td>\n",
       "      <td>32.976</td>\n",
       "    </tr>\n",
       "    <tr>\n",
       "      <th>4</th>\n",
       "      <td>3.329</td>\n",
       "      <td>10.437</td>\n",
       "    </tr>\n",
       "  </tbody>\n",
       "</table>\n",
       "</div>"
      ],
      "text/plain": [
       "   input  output\n",
       "0  2.728   9.088\n",
       "1  3.244  12.786\n",
       "2 -4.164 -10.016\n",
       "3  4.875  32.976\n",
       "4  3.329  10.437"
      ]
     },
     "execution_count": 233,
     "metadata": {},
     "output_type": "execute_result"
    }
   ],
   "source": [
    "regression_2.head()"
   ]
  },
  {
   "cell_type": "code",
   "execution_count": 234,
   "metadata": {},
   "outputs": [
    {
     "data": {
      "text/plain": [
       "array([[  2.728,   9.088],\n",
       "       [  3.244,  12.786],\n",
       "       [ -4.164, -10.016],\n",
       "       [  4.875,  32.976],\n",
       "       [  3.329,  10.437]])"
      ]
     },
     "execution_count": 234,
     "metadata": {},
     "output_type": "execute_result"
    }
   ],
   "source": [
    "X[:5]"
   ]
  },
  {
   "cell_type": "code",
   "execution_count": 235,
   "metadata": {},
   "outputs": [
    {
     "data": {
      "text/plain": [
       "[9.088, 12.786, -10.016, 32.976, 10.437000000000001]"
      ]
     },
     "execution_count": 235,
     "metadata": {},
     "output_type": "execute_result"
    }
   ],
   "source": [
    "y = [y for [y] in X[:,1:2]]\n",
    "y[:5]"
   ]
  },
  {
   "cell_type": "code",
   "execution_count": 236,
   "metadata": {},
   "outputs": [
    {
     "data": {
      "text/plain": [
       "[2.728, 3.2439999999999998, -4.164, 4.875, 3.3289999999999997]"
      ]
     },
     "execution_count": 236,
     "metadata": {},
     "output_type": "execute_result"
    }
   ],
   "source": [
    "x = [x for [x] in X[:,0:1]]\n",
    "x[:5]"
   ]
  },
  {
   "cell_type": "code",
   "execution_count": 237,
   "metadata": {},
   "outputs": [
    {
     "data": {
      "text/plain": [
       "list"
      ]
     },
     "execution_count": 237,
     "metadata": {},
     "output_type": "execute_result"
    }
   ],
   "source": [
    "type(y)"
   ]
  },
  {
   "cell_type": "code",
   "execution_count": 238,
   "metadata": {},
   "outputs": [],
   "source": [
    "pairs = list(zip(x,y))"
   ]
  },
  {
   "cell_type": "code",
   "execution_count": 239,
   "metadata": {},
   "outputs": [
    {
     "data": {
      "text/plain": [
       "[(2.728, 9.088),\n",
       " (3.2439999999999998, 12.786),\n",
       " (-4.164, -10.016),\n",
       " (4.875, 32.976),\n",
       " (3.3289999999999997, 10.437000000000001)]"
      ]
     },
     "execution_count": 239,
     "metadata": {},
     "output_type": "execute_result"
    }
   ],
   "source": [
    "pairs[:5]"
   ]
  },
  {
   "cell_type": "code",
   "execution_count": 240,
   "metadata": {},
   "outputs": [],
   "source": [
    "pairs.sort()"
   ]
  },
  {
   "cell_type": "code",
   "execution_count": 241,
   "metadata": {},
   "outputs": [
    {
     "data": {
      "text/plain": [
       "[(3.8739999999999997, 15.765),\n",
       " (4.268, 21.680999999999997),\n",
       " (4.31, 25.919),\n",
       " (4.441, 24.914)]"
      ]
     },
     "execution_count": 241,
     "metadata": {},
     "output_type": "execute_result"
    }
   ],
   "source": [
    "pairs[20:24]"
   ]
  },
  {
   "cell_type": "code",
   "execution_count": 242,
   "metadata": {},
   "outputs": [],
   "source": [
    "x = np.array([[x] for (x,y) in pairs])"
   ]
  },
  {
   "cell_type": "code",
   "execution_count": 243,
   "metadata": {},
   "outputs": [
    {
     "data": {
      "text/plain": [
       "numpy.ndarray"
      ]
     },
     "execution_count": 243,
     "metadata": {},
     "output_type": "execute_result"
    }
   ],
   "source": [
    "type(x)"
   ]
  },
  {
   "cell_type": "code",
   "execution_count": 244,
   "metadata": {},
   "outputs": [
    {
     "data": {
      "text/plain": [
       "numpy.ndarray"
      ]
     },
     "execution_count": 244,
     "metadata": {},
     "output_type": "execute_result"
    }
   ],
   "source": [
    "y = np.array([[y] for (x,y) in pairs])\n",
    "type(y)"
   ]
  },
  {
   "cell_type": "code",
   "execution_count": 245,
   "metadata": {},
   "outputs": [
    {
     "data": {
      "text/plain": [
       "(25, 1)"
      ]
     },
     "execution_count": 245,
     "metadata": {},
     "output_type": "execute_result"
    }
   ],
   "source": [
    "x.shape"
   ]
  },
  {
   "cell_type": "code",
   "execution_count": 246,
   "metadata": {},
   "outputs": [
    {
     "data": {
      "text/plain": [
       "array([[-4.826],\n",
       "       [-4.616],\n",
       "       [-4.164],\n",
       "       [-3.772]])"
      ]
     },
     "execution_count": 246,
     "metadata": {},
     "output_type": "execute_result"
    }
   ],
   "source": [
    "x[:4]"
   ]
  },
  {
   "cell_type": "code",
   "execution_count": 247,
   "metadata": {},
   "outputs": [],
   "source": [
    "linear = PolynomialFeatures(degree=1)"
   ]
  },
  {
   "cell_type": "code",
   "execution_count": 248,
   "metadata": {},
   "outputs": [],
   "source": [
    "x_linear = linear.fit_transform(x)"
   ]
  },
  {
   "cell_type": "code",
   "execution_count": 249,
   "metadata": {},
   "outputs": [],
   "source": [
    "model = LinearRegression(fit_intercept=False).fit(x_linear, y)"
   ]
  },
  {
   "cell_type": "code",
   "execution_count": 250,
   "metadata": {},
   "outputs": [],
   "source": [
    "y_linear_pred = model.predict(x_linear)"
   ]
  },
  {
   "cell_type": "code",
   "execution_count": 251,
   "metadata": {},
   "outputs": [],
   "source": [
    "quadratic = PolynomialFeatures(degree=2)"
   ]
  },
  {
   "cell_type": "code",
   "execution_count": 252,
   "metadata": {},
   "outputs": [],
   "source": [
    "x_quadratic = quadratic.fit_transform(x)"
   ]
  },
  {
   "cell_type": "code",
   "execution_count": 253,
   "metadata": {},
   "outputs": [],
   "source": [
    "model = LinearRegression(fit_intercept=False).fit(x_quadratic, y)"
   ]
  },
  {
   "cell_type": "code",
   "execution_count": 254,
   "metadata": {},
   "outputs": [],
   "source": [
    "y_quadratic_pred = model.predict(x_quadratic)"
   ]
  },
  {
   "cell_type": "code",
   "execution_count": 255,
   "metadata": {},
   "outputs": [],
   "source": [
    "cubic = PolynomialFeatures(degree=3)\n",
    "x_cubic = cubic.fit_transform(x)"
   ]
  },
  {
   "cell_type": "code",
   "execution_count": 256,
   "metadata": {},
   "outputs": [],
   "source": [
    "model = LinearRegression(fit_intercept=False).fit(x_cubic, y)"
   ]
  },
  {
   "cell_type": "code",
   "execution_count": 257,
   "metadata": {},
   "outputs": [],
   "source": [
    "y_cubic_pred = model.predict(x_cubic)"
   ]
  },
  {
   "cell_type": "code",
   "execution_count": 258,
   "metadata": {},
   "outputs": [],
   "source": [
    "quartic = PolynomialFeatures(degree=4)\n",
    "x_quartic = quartic.fit_transform(x)"
   ]
  },
  {
   "cell_type": "code",
   "execution_count": 259,
   "metadata": {},
   "outputs": [],
   "source": [
    "model = LinearRegression(fit_intercept=False).fit(x_quartic, y)"
   ]
  },
  {
   "cell_type": "code",
   "execution_count": 260,
   "metadata": {},
   "outputs": [],
   "source": [
    "y_quartic_pred = model.predict(x_quartic)"
   ]
  },
  {
   "cell_type": "code",
   "execution_count": 261,
   "metadata": {},
   "outputs": [
    {
     "data": {
      "image/png": "[encoded data removed]",
      "text/plain": [
       "<Figure size 1080x1080 with 1 Axes>"
      ]
     },
     "metadata": {},
     "output_type": "display_data"
    }
   ],
   "source": [
    "from matplotlib.lines import Line2D\n",
    "\n",
    "plt.rcParams['figure.figsize'] = (15, 15)\n",
    "plt.scatter(x, y, color = \"brown\")\n",
    "plt.plot(x, y_linear_pred, color = \"red\")\n",
    "plt.plot(x, y_quadratic_pred, color = \"green\")\n",
    "plt.plot(x, y_cubic_pred, color = \"blue\")\n",
    "plt.plot(x, y_quartic_pred, color = \"black\")\n",
    "plt.title(\"Regression plots using basis functions of polynomials\")\n",
    "plt.xlabel(\"Input\")\n",
    "plt.ylabel(\"Output\")\n",
    "\n",
    "colors = ['red', 'green', 'blue', 'black']\n",
    "lines = [Line2D([0], [0], color=c, linewidth=3, linestyle='-') for c in colors]\n",
    "labels = ['linear', 'quadratic', 'cubic', 'quartic']\n",
    "plt.legend(lines, labels)\n",
    "\n",
    "plt.savefig('non_linear_regression.svg')\n",
    "plt.show()"
   ]
  },
  {
   "cell_type": "code",
   "execution_count": 262,
   "metadata": {},
   "outputs": [],
   "source": [
    "from sklearn.metrics import mean_squared_error\n",
    "sns.set_style(style='whitegrid')"
   ]
  },
  {
   "cell_type": "code",
   "execution_count": 263,
   "metadata": {},
   "outputs": [
    {
     "data": {
      "text/plain": [
       "24.744378032672856"
      ]
     },
     "execution_count": 263,
     "metadata": {},
     "output_type": "execute_result"
    }
   ],
   "source": [
    "mse_linear = mean_squared_error(y, y_linear_pred)\n",
    "mse_linear"
   ]
  },
  {
   "cell_type": "code",
   "execution_count": 264,
   "metadata": {},
   "outputs": [
    {
     "data": {
      "text/plain": [
       "17.352926937873296"
      ]
     },
     "execution_count": 264,
     "metadata": {},
     "output_type": "execute_result"
    }
   ],
   "source": [
    "mse_quadratic = mean_squared_error(y, y_quadratic_pred)\n",
    "mse_quadratic"
   ]
  },
  {
   "cell_type": "code",
   "execution_count": 265,
   "metadata": {},
   "outputs": [
    {
     "data": {
      "text/plain": [
       "2.7447567192524263"
      ]
     },
     "execution_count": 265,
     "metadata": {},
     "output_type": "execute_result"
    }
   ],
   "source": [
    "mse_cubic = mean_squared_error(y, y_cubic_pred)\n",
    "mse_cubic"
   ]
  },
  {
   "cell_type": "code",
   "execution_count": 266,
   "metadata": {},
   "outputs": [
    {
     "data": {
      "text/plain": [
       "2.7389111790755374"
      ]
     },
     "execution_count": 266,
     "metadata": {},
     "output_type": "execute_result"
    }
   ],
   "source": [
    "mse_quartic = mean_squared_error(y, y_quartic_pred)\n",
    "mse_quartic"
   ]
  },
  {
   "cell_type": "code",
   "execution_count": 267,
   "metadata": {},
   "outputs": [
    {
     "data": {
      "image/png": "[encoded data removed]",
      "text/plain": [
       "<Figure size 720x432 with 1 Axes>"
      ]
     },
     "metadata": {},
     "output_type": "display_data"
    }
   ],
   "source": [
    "categories = np.array([1,2,3,4])\n",
    "labels = ['linear','quadratic','cubic','quartic']\n",
    "errors = [mse_linear, mse_quadratic, mse_cubic, mse_quartic]\n",
    "\n",
    "plt.rcParams['figure.figsize'] = (10, 6)\n",
    "fig, ax = plt.subplots()\n",
    "ax.bar(categories, errors)\n",
    "\n",
    "ax.set_xticks(categories)\n",
    "ax.set_xticklabels(labels)\n",
    "ax.set_xlabel('Degree of Polynomial')\n",
    "\n",
    "ax.yaxis.grid(True)\n",
    "ax.xaxis.grid(False)\n",
    "\n",
    "ax.set_ylabel('Mean Squared Error')\n",
    "\n",
    "ax.set_title('Plot of Mean Squared Error versus Degree of Polynomial')\n",
    "\n",
    "plt.savefig('mse_non_linear_regression.svg')\n",
    "plt.show()"
   ]
  },
  {
   "cell_type": "code",
   "execution_count": 634,
   "metadata": {},
   "outputs": [],
   "source": [
    "data_path = os.path.join(os.getcwd(),'data','regression_part2.csv')\n",
    "regression_2 = pd.read_csv(data_path, delimiter=',')"
   ]
  },
  {
   "cell_type": "code",
   "execution_count": 635,
   "metadata": {},
   "outputs": [
    {
     "name": "stdout",
     "output_type": "stream",
     "text": [
      "<class 'pandas.core.frame.DataFrame'>\n",
      "RangeIndex: 25 entries, 0 to 24\n",
      "Data columns (total 2 columns):\n",
      "input     25 non-null float64\n",
      "output    25 non-null float64\n",
      "dtypes: float64(2)\n",
      "memory usage: 480.0 bytes\n"
     ]
    }
   ],
   "source": [
    "regression_2.info()"
   ]
  },
  {
   "cell_type": "code",
   "execution_count": 636,
   "metadata": {},
   "outputs": [
    {
     "data": {
      "text/html": [
       "<div>\n",
       "<style scoped>\n",
       "    .dataframe tbody tr th:only-of-type {\n",
       "        vertical-align: middle;\n",
       "    }\n",
       "\n",
       "    .dataframe tbody tr th {\n",
       "        vertical-align: top;\n",
       "    }\n",
       "\n",
       "    .dataframe thead th {\n",
       "        text-align: right;\n",
       "    }\n",
       "</style>\n",
       "<table border=\"1\" class=\"dataframe\">\n",
       "  <thead>\n",
       "    <tr style=\"text-align: right;\">\n",
       "      <th></th>\n",
       "      <th>input</th>\n",
       "      <th>output</th>\n",
       "    </tr>\n",
       "  </thead>\n",
       "  <tbody>\n",
       "    <tr>\n",
       "      <th>0</th>\n",
       "      <td>2.728</td>\n",
       "      <td>9.088</td>\n",
       "    </tr>\n",
       "    <tr>\n",
       "      <th>1</th>\n",
       "      <td>3.244</td>\n",
       "      <td>12.786</td>\n",
       "    </tr>\n",
       "    <tr>\n",
       "      <th>2</th>\n",
       "      <td>-4.164</td>\n",
       "      <td>-10.016</td>\n",
       "    </tr>\n",
       "    <tr>\n",
       "      <th>3</th>\n",
       "      <td>4.875</td>\n",
       "      <td>32.976</td>\n",
       "    </tr>\n",
       "    <tr>\n",
       "      <th>4</th>\n",
       "      <td>3.329</td>\n",
       "      <td>10.437</td>\n",
       "    </tr>\n",
       "  </tbody>\n",
       "</table>\n",
       "</div>"
      ],
      "text/plain": [
       "   input  output\n",
       "0  2.728   9.088\n",
       "1  3.244  12.786\n",
       "2 -4.164 -10.016\n",
       "3  4.875  32.976\n",
       "4  3.329  10.437"
      ]
     },
     "execution_count": 636,
     "metadata": {},
     "output_type": "execute_result"
    }
   ],
   "source": [
    "regression_2.head()"
   ]
  },
  {
   "cell_type": "code",
   "execution_count": 637,
   "metadata": {},
   "outputs": [],
   "source": [
    "X = regression_2['input'].values"
   ]
  },
  {
   "cell_type": "code",
   "execution_count": 638,
   "metadata": {},
   "outputs": [],
   "source": [
    "Y = regression_2['output'].values"
   ]
  },
  {
   "cell_type": "code",
   "execution_count": 639,
   "metadata": {},
   "outputs": [
    {
     "data": {
      "text/plain": [
       "array([-4.826, -4.616, -4.164, -3.772, -2.879, -2.848, -2.588, -2.276,\n",
       "       -0.597,  0.992,  1.345,  1.405,  2.633,  2.688,  2.728,  2.78 ,\n",
       "        2.815,  3.244,  3.276,  3.329,  3.874,  4.268,  4.31 ,  4.441,\n",
       "        4.875])"
      ]
     },
     "execution_count": 639,
     "metadata": {},
     "output_type": "execute_result"
    }
   ],
   "source": [
    "X = np.array([x for (x,y) in pairs])\n",
    "X"
   ]
  },
  {
   "cell_type": "code",
   "execution_count": 640,
   "metadata": {},
   "outputs": [
    {
     "data": {
      "text/plain": [
       "array([-15.577, -15.291, -10.016,  -6.342,  -5.204,  -1.673,  -0.988,\n",
       "        -1.465,   0.536,  -1.133,   3.977,  -0.154,  11.382,   8.539,\n",
       "         9.088,   6.929,   9.853,  12.786,  10.743,  10.437,  15.765,\n",
       "        21.681,  25.919,  24.914,  32.976])"
      ]
     },
     "execution_count": 640,
     "metadata": {},
     "output_type": "execute_result"
    }
   ],
   "source": [
    "Y = np.array([y for (x,y) in pairs])\n",
    "Y"
   ]
  },
  {
   "cell_type": "code",
   "execution_count": 641,
   "metadata": {},
   "outputs": [],
   "source": [
    "alpha_1 = 20000\n",
    "alpha_2 = 15\n",
    "alpha_3 = 35"
   ]
  },
  {
   "cell_type": "code",
   "execution_count": 642,
   "metadata": {},
   "outputs": [],
   "source": [
    "c_1 = -4.0\n",
    "c_2 = -2.0\n",
    "c_3 = 2.0\n",
    "c_4 = 4.0"
   ]
  },
  {
   "cell_type": "code",
   "execution_count": 643,
   "metadata": {},
   "outputs": [],
   "source": [
    "def rbf(x,c,a):\n",
    "    return np.exp(-0.5*((x-c)**2)/(a**2))"
   ]
  },
  {
   "cell_type": "code",
   "execution_count": 644,
   "metadata": {},
   "outputs": [],
   "source": [
    "def RBF(x, alpha):\n",
    "    return np.array([1, rbf(x,c_1,alpha), rbf(x,c_2,alpha), rbf(x,c_3,alpha), rbf(x,c_4,alpha)])"
   ]
  },
  {
   "cell_type": "code",
   "execution_count": 645,
   "metadata": {},
   "outputs": [],
   "source": [
    "phi_1 = np.array([RBF(x, alpha_1) for x in X])"
   ]
  },
  {
   "cell_type": "code",
   "execution_count": 646,
   "metadata": {},
   "outputs": [],
   "source": [
    "phi_2 = np.array([RBF(x, alpha_2) for x in X])"
   ]
  },
  {
   "cell_type": "code",
   "execution_count": 647,
   "metadata": {},
   "outputs": [],
   "source": [
    "phi_3 = np.array([RBF(x, alpha_3) for x in X])"
   ]
  },
  {
   "cell_type": "code",
   "execution_count": 648,
   "metadata": {},
   "outputs": [],
   "source": [
    "def get_w(phi, y):\n",
    "    phi_T_phi_inv = np.linalg.inv(phi.T.dot(phi))\n",
    "    w = (phi_T_phi_inv.dot(phi.T)).dot(y)\n",
    "    return w"
   ]
  },
  {
   "cell_type": "code",
   "execution_count": 649,
   "metadata": {},
   "outputs": [],
   "source": [
    "w_1 = get_w(phi_1, Y)\n",
    "w_2 = get_w(phi_2, Y)\n",
    "w_3 = get_w(phi_3, Y)"
   ]
  },
  {
   "cell_type": "code",
   "execution_count": 650,
   "metadata": {},
   "outputs": [],
   "source": [
    "y_pred_1 = phi_1.dot(w_1)\n",
    "y_pred_2 = phi_2.dot(w_2)\n",
    "y_pred_3 = phi_3.dot(w_3)"
   ]
  },
  {
   "cell_type": "code",
   "execution_count": 651,
   "metadata": {},
   "outputs": [
    {
     "data": {
      "image/png": "[encoded data removed]",
      "text/plain": [
       "<Figure size 576x576 with 1 Axes>"
      ]
     },
     "metadata": {},
     "output_type": "display_data"
    }
   ],
   "source": [
    "plt.rcParams['figure.figsize'] = (8, 8)\n",
    "plt.scatter(X, Y, color = \"black\")\n",
    "plt.plot(X, y_pred_1, color = \"red\")\n",
    "plt.plot(X, y_pred_2, color = \"green\")\n",
    "plt.plot(X, y_pred_3, color = \"blue\")\n",
    "plt.title(\"Non-linear regression predictions obtained by using radial basis functions\")\n",
    "plt.xlabel(\"Input\")\n",
    "plt.ylabel(\"Output\")\n",
    "\n",
    "colors = ['red', 'green', 'blue']\n",
    "lines = [Line2D([0], [0], color=c, linewidth=3, linestyle='-') for c in colors]\n",
    "labels = ['alpha=0.2', 'alpha=100', 'alpha=1000']\n",
    "plt.legend(lines, labels)\n",
    "\n",
    "plt.grid(True)\n",
    "\n",
    "plt.savefig('non_linear_regression_RBFs.svg')\n",
    "plt.show()"
   ]
  },
  {
   "cell_type": "code",
   "execution_count": 652,
   "metadata": {},
   "outputs": [],
   "source": [
    "error_1 = mean_squared_error(Y, y_pred_1)\n",
    "error_2 = mean_squared_error(Y, y_pred_2)\n",
    "error_3 = mean_squared_error(Y, y_pred_3)"
   ]
  },
  {
   "cell_type": "code",
   "execution_count": 653,
   "metadata": {},
   "outputs": [
    {
     "data": {
      "text/plain": [
       "25.168544799644277"
      ]
     },
     "execution_count": 653,
     "metadata": {},
     "output_type": "execute_result"
    }
   ],
   "source": [
    "error_1"
   ]
  },
  {
   "cell_type": "code",
   "execution_count": 654,
   "metadata": {},
   "outputs": [
    {
     "data": {
      "text/plain": [
       "2.757488638727246"
      ]
     },
     "execution_count": 654,
     "metadata": {},
     "output_type": "execute_result"
    }
   ],
   "source": [
    "error_2"
   ]
  },
  {
   "cell_type": "code",
   "execution_count": 655,
   "metadata": {},
   "outputs": [
    {
     "data": {
      "text/plain": [
       "2.7654185504756303"
      ]
     },
     "execution_count": 655,
     "metadata": {},
     "output_type": "execute_result"
    }
   ],
   "source": [
    "error_3"
   ]
  },
  {
   "cell_type": "code",
   "execution_count": 52,
   "metadata": {},
   "outputs": [],
   "source": [
    "x = [-3.187885,-3.188801,-3.188704,-3.189138,-3.189812,-3.190294,-3.189619,-3.188945,-3.188271,-3.191161,-3.190197,-3.191161,-3.190727,-3.187982,-3.187693,-3.187355,-3.187211,-3.185573,-3.185621,-3.185814,-3.184803,-3.18514,-3.185525,-3.185236,-3.184465,-3.186392,-3.186777,-3.185043,-3.185332,-3.186729,-3.186922,-3.187404,-3.188319]\n",
    "y = [55.944709,55.945437,55.945168,55.944197,55.94409,55.943712,55.94382,55.943928,55.944063,55.943362,55.943443,55.943065,55.943092,55.943497,55.942769,55.943604,55.943335,55.942877,55.943065,55.943551,55.943173,55.943685,55.943982,55.944575,55.944952,55.944656,55.944575,55.945868,55.946138,55.945653,55.945437,55.945949,55.945518]"
   ]
  },
  {
   "cell_type": "code",
   "execution_count": 98,
   "metadata": {},
   "outputs": [],
   "source": [
    "i = [-3.187902606042998,-3.1881324193759335,-3.188362232708869,-3.188592046041805,-3.1888218593747406,-3.1886718593747405,-3.188774465417738,-3.1888770714607357,-3.189027071460736,-3.189177071460736,-3.1894725137866398,-3.18977251378664,-3.1900023271195757,-3.190262134740711,-3.1899666924148073,-3.1896712500889035,-3.1893758077629997,-3.189080365437096,-3.188784923111192,-3.188489480785288,-3.1881940384593843,-3.18847594624562,-3.1887578540318557,-3.1890397618180915,-3.189321669604327,-3.189617111930231,-3.189912554256135,-3.1902079965820387,-3.1905034389079425,-3.1907988812338464,-3.19109432355975,-3.1907988812338464,-3.1905034389079425,-3.1902034389079423,-3.190463246529078,-3.1907451543153136,-3.1910270621015493,-3.190727062101549,-3.1904316197756453,-3.1901361774497414,-3.1898407351238376,-3.1895452927979338,-3.18924985047203,-3.188954408146126,-3.1886589658202222,-3.1883635234943184,-3.188063523494318,-3.187913523494318,-3.187763523494318,-3.1876609174513204,-3.1876088229980204,-3.187506216955023,-3.187403610912025,-3.1872107746291194,-3.1869153323032156,-3.186337982191076,-3.186042539865172,-3.1857606320789364,-3.185500824457801,-3.185650824457801,-3.1857534305007986,-3.185457988174895,-3.185162545848991,-3.184867103523087,-3.185059939805993,-3.1851625458489905,-3.185422353470126,-3.185370259016826,-3.185318164563526,-3.1850583569423905,-3.184798549321255,-3.1845387417001194,-3.1848341840260233,-3.185129626351927,-3.185425068677831,-3.1857205110037348,-3.1860159533296386,-3.1863113956555424,-3.1866113956555426,-3.186381582322607,-3.1861517689896712,-3.1859219556567355,-3.1856921423238,-3.185462328990864,-3.1852325156579284,-3.184972708036793,-3.1852325156579284,-3.185514423444164,-3.1857963312304,-3.1860782390166356,-3.1863736813425394,-3.1866691236684432,-3.186861959951349,-3.1870917732842847,-3.1873215866172204,-3.187603494403456,-3.187885402189692,-3.1881673099759276]\n",
    "j = [55.94468190778624,55.944874744069146,55.94506758035205,55.94526041663496,55.945453252917865,55.94519344529673,55.94491153751049,55.944629629724254,55.94436982210312,55.944110014481986,55.94405792002868,55.94405792002868,55.94386508374578,55.94371508374578,55.94376717819908,55.943819272652384,55.943871367105686,55.94392346155899,55.94397555601229,55.94402765046559,55.944079744918895,55.943977138875894,55.94387453283289,55.94377192678989,55.94366932074689,55.94361722629359,55.94356513184029,55.943513037386985,55.94346094293368,55.94340884848038,55.94335675402708,55.94340884848038,55.94346094293368,55.94346094293368,55.943310942933685,55.943208336890685,55.943105730847684,55.943105730847684,55.943157825300986,55.94320991975429,55.94326201420759,55.94331410866089,55.943366203114195,55.9434182975675,55.9434703920208,55.9435224864741,55.9435224864741,55.94326267885297,55.94300287123183,55.942720963445595,55.9430164057715,55.94329831355774,55.94358022134398,55.94335040801104,55.94329831355774,55.94314361306144,55.943091518608135,55.942988912565134,55.942838912565136,55.94309872018627,55.94338062797251,55.94332853351921,55.943276439065905,55.9432243446126,55.94345415794554,55.94373606573178,55.943886065731775,55.94418150805768,55.94447695038359,55.94462695038359,55.944776950383584,55.94492695038358,55.94487485593028,55.94482276147698,55.944770667023676,55.94471857257037,55.94466647811707,55.94461438366377,55.94461438366377,55.944807219946675,55.94500005622958,55.94519289251249,55.945385728795394,55.9455785650783,55.945771401361206,55.945921401361204,55.9460714013612,55.9459687953182,55.9458661892752,55.9457635832322,55.9457114887789,55.945659394325595,55.94542958099266,55.945622417275565,55.94581525355847,55.94571264751547,55.94561004147247,55.94550743542947]\n"
   ]
  },
  {
   "cell_type": "code",
   "execution_count": 99,
   "metadata": {},
   "outputs": [],
   "source": [
    "longs = [-3.192473,-3.192473, -3.184319, -3.184319, -3.192473]\n",
    "lats = [55.946233, 55.942617, 55.942617,55.946233 ,55.946233 ]"
   ]
  },
  {
   "cell_type": "code",
   "execution_count": 100,
   "metadata": {},
   "outputs": [],
   "source": [
    "no_fly_1_x = [-3.1871804594993587,-3.187042325735092,-3.1869766116142273,-3.186897486448288,-3.186330199241638,-3.186405301094055,-3.1863033771514893,-3.1863395869731903,-3.186409324407577,-3.186425417661667,-3.186226934194565,-3.1863945722579956,-3.1864307820796967,-3.186488449573517,-3.1871804594993587]\n",
    "no_fly_1_y = [55.94448750356385,55.944193856370475,55.94420361961219,55.94404815847112,55.94413227278919,55.944296745793935,55.944311015108454,55.94437109637507,55.94436208419099,55.944397381899876,55.94442366740687,55.94457011490493,55.94458588614092,55.94459189422912,55.94448750356385]"
   ]
  },
  {
   "cell_type": "code",
   "execution_count": 101,
   "metadata": {},
   "outputs": [],
   "source": [
    "no_fly_2_x = [-3.186697661876678,-3.186556175351143,-3.186345621943474,-3.1864864379167557,-3.186697661876678]\n",
    "no_fly_2_y = [55.943360216655655,55.94306656091478,55.943098480124895,55.94339251114087,55.943360216655655]"
   ]
  },
  {
   "cell_type": "code",
   "execution_count": 102,
   "metadata": {},
   "outputs": [],
   "source": [
    "no_fly_3_x = [-3.189708441495895,-3.1894750893115997,-3.1882721185684204,-3.1885054707527156,-3.189708441495895]\n",
    "no_fly_3_y = [55.94280820210462,55.94233128523903,55.942514542178216,55.94299295887116,55.94280820210462]"
   ]
  },
  {
   "cell_type": "code",
   "execution_count": 103,
   "metadata": {},
   "outputs": [],
   "source": [
    "no_fly_4_x = [-3.188078999519348,-3.187633752822876,-3.1869176030158997,-3.187046349048614,-3.186909556388855,-3.18678081035614,-3.1865662336349487,-3.187113404273987,-3.1872957944869995,-3.187832236289978,-3.188078999519348]\n",
    "no_fly_4_y = [55.94541799748307,55.94458288209647,55.94470154167527,55.94494186375901,55.944964393877896,55.94481569485101,55.94487727734554,55.94555317633777,55.945505112799054,55.945460053177314,55.94541799748307]"
   ]
  },
  {
   "cell_type": "code",
   "execution_count": 104,
   "metadata": {},
   "outputs": [],
   "source": [
    "zx = i[55]\n",
    "zy = j[55]"
   ]
  },
  {
   "cell_type": "code",
   "execution_count": 105,
   "metadata": {},
   "outputs": [
    {
     "data": {
      "text/plain": [
       "0.0005977168188564986"
      ]
     },
     "execution_count": 105,
     "metadata": {},
     "output_type": "execute_result"
    }
   ],
   "source": [
    "d = np.sqrt((i[55] - i[54])**2 + (j[55]-j[54])**2)\n",
    "d"
   ]
  },
  {
   "cell_type": "code",
   "execution_count": 106,
   "metadata": {},
   "outputs": [
    {
     "data": {
      "text/plain": [
       "70"
      ]
     },
     "execution_count": 106,
     "metadata": {},
     "output_type": "execute_result"
    }
   ],
   "source": [
    "angles = [110,140,140,140,140,-60,-110,-110,-120,-120,-170,180,-140,-151,10,10,10,10,10,10,10,-160,-160,-160,-160,-170,-170,-170,-170,-170,-170,10,10,0,-151,-160,-160,0,10,10,10,10,10,10,10,10,0,-60,-60,-70,80,70,70,-50,-10,-20,-10,-20,-30,119,110,-10,-10,-10,130,110,150,80,80,29,29,29,-170,-170,-170,-170,-170,-170,-180,40,40,40,40,40,40,29,150,-160,-160,-160,-170,-170,-130,140,140,-160,-160,-160]\n",
    "angles[52]"
   ]
  },
  {
   "cell_type": "code",
   "execution_count": null,
   "metadata": {
    "scrolled": true
   },
   "outputs": [],
   "source": [
    "plt.rcParams['figure.figsize'] = (16, 16)\n",
    "plt.scatter(x, y, color = \"blue\")\n",
    "plt.scatter(i[0], j[0], color = \"red\")\n",
    "plt.scatter(i[1:], j[1:], color = \"black\")\n",
    "plt.scatter(zx, zy, color = \"orange\")\n",
    "plt.plot(i, j, color = \"green\")\n",
    "plt.plot(longs, lats, color = \"purple\")\n",
    "plt.plot(no_fly_1_x, no_fly_1_y, color = \"red\")\n",
    "plt.plot(no_fly_2_x, no_fly_2_y, color = \"red\")\n",
    "plt.plot(no_fly_3_x, no_fly_3_y, color = \"red\")\n",
    "plt.plot(no_fly_4_x, no_fly_4_y, color = \"red\")\n",
    "plt.grid(True)"
   ]
  },
  {
   "cell_type": "code",
   "execution_count": null,
   "metadata": {},
   "outputs": [],
   "source": []
  }
 ],
 "metadata": {
  "kernelspec": {
   "display_name": "Python 3",
   "language": "python",
   "name": "python3"
  },
  "language_info": {
   "codemirror_mode": {
    "name": "ipython",
    "version": 3
   },
   "file_extension": ".py",
   "mimetype": "text/x-python",
   "name": "python",
   "nbconvert_exporter": "python",
   "pygments_lexer": "ipython3",
   "version": "3.7.7"
  }
 },
 "nbformat": 4,
 "nbformat_minor": 4
}
