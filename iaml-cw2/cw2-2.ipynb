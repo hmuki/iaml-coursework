{
 "cells": [
  {
   "cell_type": "code",
   "execution_count": 246,
   "metadata": {},
   "outputs": [],
   "source": [
    "import os\n",
    "import gzip\n",
    "import numpy as np\n",
    "from matplotlib import pyplot as plt\n",
    "from matplotlib import cm\n",
    "from sklearn.linear_model import LogisticRegression\n",
    "from sklearn.svm import SVC\n",
    "from sklearn.decomposition import PCA\n",
    "from sklearn.metrics import accuracy_score, confusion_matrix\n",
    "from sklearn.model_selection import cross_validate"
   ]
  },
  {
   "cell_type": "code",
   "execution_count": 2,
   "metadata": {},
   "outputs": [],
   "source": [
    "def load_mnist(path, kind='train'):\n",
    "    import os\n",
    "    import gzip\n",
    "    import numpy as np\n",
    "\n",
    "    \"\"\"Load MNIST data from `path`\"\"\"\n",
    "    labels_path = os.path.join(path,\n",
    "                               '%s-labels-idx1-ubyte.gz'\n",
    "                               % kind)\n",
    "    images_path = os.path.join(path,\n",
    "                               '%s-images-idx3-ubyte.gz'\n",
    "                               % kind)\n",
    "\n",
    "    with gzip.open(labels_path, 'rb') as lbpath:\n",
    "        labels = np.frombuffer(lbpath.read(), dtype=np.uint8,\n",
    "                               offset=8)\n",
    "\n",
    "    with gzip.open(images_path, 'rb') as imgpath:\n",
    "        images = np.frombuffer(imgpath.read(), dtype=np.uint8,\n",
    "                               offset=16).reshape(len(labels), 784)\n",
    "\n",
    "    return images, labels"
   ]
  },
  {
   "cell_type": "code",
   "execution_count": 3,
   "metadata": {},
   "outputs": [],
   "source": [
    "def load_FashionMNIST(data_path):\n",
    "    Xtrn, Ytrn = load_mnist(data_path, \"train\")\n",
    "    Xtst, Ytst = load_mnist(data_path, \"t10k\")\n",
    "    return Xtrn.astype(np.float), Ytrn, Xtst.astype(np.float), Ytst\n",
    "\n",
    "def load_CoVoST2(data_path):\n",
    "    data = np.load(data_path+'/speech_trn.npz', allow_pickle=True)\n",
    "    Xtrn, Ytrn = data['Xtrn'], data['Ytrn']\n",
    "    data = np.load(data_path+'/speech_tst.npz', allow_pickle=True)\n",
    "    Xtst, Ytst = data['Xtst'], data['Ytst']\n",
    "    return Xtrn, Ytrn, Xtst, Ytst"
   ]
  },
  {
   "cell_type": "code",
   "execution_count": 4,
   "metadata": {},
   "outputs": [
    {
     "data": {
      "text/plain": [
       "'/Users/Hoffmann/Downloads/iaml-cw2'"
      ]
     },
     "execution_count": 4,
     "metadata": {},
     "output_type": "execute_result"
    }
   ],
   "source": [
    "datapath = os.path.join(os.getcwd())\n",
    "datapath"
   ]
  },
  {
   "cell_type": "code",
   "execution_count": 5,
   "metadata": {},
   "outputs": [],
   "source": [
    "Xtrn, Ytrn, Xtst, Ytst = load_FashionMNIST(datapath)"
   ]
  },
  {
   "cell_type": "code",
   "execution_count": 6,
   "metadata": {},
   "outputs": [],
   "source": [
    "from copy import deepcopy"
   ]
  },
  {
   "cell_type": "code",
   "execution_count": 7,
   "metadata": {},
   "outputs": [],
   "source": [
    "Xtrn_orig = deepcopy(Xtrn)\n",
    "Xtst_orig = deepcopy(Xtst)"
   ]
  },
  {
   "cell_type": "code",
   "execution_count": 8,
   "metadata": {},
   "outputs": [],
   "source": [
    "Xtrn = Xtrn/255.0\n",
    "Xtst = Xtst/255.0"
   ]
  },
  {
   "cell_type": "code",
   "execution_count": 9,
   "metadata": {},
   "outputs": [
    {
     "data": {
      "text/plain": [
       "True"
      ]
     },
     "execution_count": 9,
     "metadata": {},
     "output_type": "execute_result"
    }
   ],
   "source": [
    "np.array_equal(Xtrn_orig, Xtrn*255.0)"
   ]
  },
  {
   "cell_type": "code",
   "execution_count": 10,
   "metadata": {},
   "outputs": [],
   "source": [
    "Xmean_trn = np.mean(Xtrn, axis=0)"
   ]
  },
  {
   "cell_type": "code",
   "execution_count": 11,
   "metadata": {},
   "outputs": [],
   "source": [
    "Xmean_tst = np.mean(Xtst, axis=0)"
   ]
  },
  {
   "cell_type": "code",
   "execution_count": 12,
   "metadata": {},
   "outputs": [],
   "source": [
    "Xtst_nm = Xtst - Xmean_tst"
   ]
  },
  {
   "cell_type": "code",
   "execution_count": 13,
   "metadata": {},
   "outputs": [],
   "source": [
    "Xtrn_nm = Xtrn - Xmean_trn"
   ]
  },
  {
   "cell_type": "code",
   "execution_count": 14,
   "metadata": {},
   "outputs": [
    {
     "data": {
      "text/plain": [
       "(60000, 784)"
      ]
     },
     "execution_count": 14,
     "metadata": {},
     "output_type": "execute_result"
    }
   ],
   "source": [
    "Xtrn_nm.shape"
   ]
  },
  {
   "cell_type": "code",
   "execution_count": 15,
   "metadata": {},
   "outputs": [],
   "source": [
    "model_lr = LogisticRegression().fit(Xtrn_nm, Ytrn)"
   ]
  },
  {
   "cell_type": "code",
   "execution_count": 16,
   "metadata": {},
   "outputs": [],
   "source": [
    "y_pred_lr = model_lr.predict(Xtst_nm)"
   ]
  },
  {
   "cell_type": "code",
   "execution_count": 17,
   "metadata": {},
   "outputs": [
    {
     "data": {
      "text/plain": [
       "995"
      ]
     },
     "execution_count": 17,
     "metadata": {},
     "output_type": "execute_result"
    }
   ],
   "source": [
    "len(y_pred_lr[y_pred_lr==9])"
   ]
  },
  {
   "cell_type": "code",
   "execution_count": 18,
   "metadata": {},
   "outputs": [
    {
     "data": {
      "text/plain": [
       "0.8398"
      ]
     },
     "execution_count": 18,
     "metadata": {},
     "output_type": "execute_result"
    }
   ],
   "source": [
    "accuracy_score(Ytst, y_pred_lr)"
   ]
  },
  {
   "cell_type": "code",
   "execution_count": 19,
   "metadata": {},
   "outputs": [
    {
     "data": {
      "text/plain": [
       "array([[819,   4,  15,  50,   7,   4,  88,   1,  12,   0],\n",
       "       [  5, 953,   4,  27,   5,   0,   3,   1,   2,   0],\n",
       "       [ 27,   4, 731,  11, 133,   0,  82,   2,   9,   1],\n",
       "       [ 29,  17,  14, 866,  33,   0,  37,   0,   4,   0],\n",
       "       [  1,   4, 115,  39, 759,   2,  71,   0,   9,   0],\n",
       "       [  2,   0,   0,   1,   0, 912,   0,  56,   9,  20],\n",
       "       [149,   3, 126,  47, 108,   1, 537,   0,  28,   1],\n",
       "       [  0,   0,   0,   0,   0,  32,   0, 936,   1,  31],\n",
       "       [  7,   1,   6,  11,   3,   7,  15,   5, 944,   1],\n",
       "       [  0,   0,   0,   1,   0,  15,   1,  42,   0, 941]])"
      ]
     },
     "execution_count": 19,
     "metadata": {},
     "output_type": "execute_result"
    }
   ],
   "source": [
    "confusion_matrix(Ytst, y_pred_lr)"
   ]
  },
  {
   "cell_type": "code",
   "execution_count": 20,
   "metadata": {},
   "outputs": [],
   "source": [
    "model_svc = SVC(kernel='rbf', C=1.0, gamma='auto').fit(Xtrn_nm, Ytrn)"
   ]
  },
  {
   "cell_type": "code",
   "execution_count": 21,
   "metadata": {},
   "outputs": [],
   "source": [
    "y_pred_svc = model_svc.predict(Xtst_nm)"
   ]
  },
  {
   "cell_type": "code",
   "execution_count": 22,
   "metadata": {},
   "outputs": [
    {
     "data": {
      "text/plain": [
       "0.8462"
      ]
     },
     "execution_count": 22,
     "metadata": {},
     "output_type": "execute_result"
    }
   ],
   "source": [
    "model_svc.score(Xtst_nm, Ytst)"
   ]
  },
  {
   "cell_type": "code",
   "execution_count": 23,
   "metadata": {},
   "outputs": [
    {
     "data": {
      "text/plain": [
       "array([[845,   2,   8,  51,   4,   4,  72,   0,  14,   0],\n",
       "       [  4, 951,   7,  31,   5,   0,   1,   0,   1,   0],\n",
       "       [ 16,   2, 751,  11, 136,   0,  76,   0,   8,   0],\n",
       "       [ 32,   6,  12, 883,  26,   0,  38,   0,   3,   0],\n",
       "       [  1,   0,  98,  38, 773,   0,  86,   0,   4,   0],\n",
       "       [  0,   0,   0,   1,   0, 911,   0,  60,   2,  26],\n",
       "       [185,   1, 122,  39,  95,   0, 533,   0,  25,   0],\n",
       "       [  0,   0,   0,   0,   0,  34,   0, 926,   0,  40],\n",
       "       [  3,   1,   8,   5,   2,   4,  13,   4, 959,   1],\n",
       "       [  0,   0,   0,   0,   0,  22,   0,  47,   1, 930]])"
      ]
     },
     "execution_count": 23,
     "metadata": {},
     "output_type": "execute_result"
    }
   ],
   "source": [
    "confusion_matrix(Ytst, y_pred_svc)"
   ]
  },
  {
   "cell_type": "code",
   "execution_count": 24,
   "metadata": {},
   "outputs": [],
   "source": [
    "# get the eigenvectors"
   ]
  },
  {
   "cell_type": "code",
   "execution_count": 175,
   "metadata": {},
   "outputs": [],
   "source": [
    "pca = PCA().fit(Xtrn_nm)"
   ]
  },
  {
   "cell_type": "code",
   "execution_count": 176,
   "metadata": {},
   "outputs": [],
   "source": [
    "V = pca.components_"
   ]
  },
  {
   "cell_type": "code",
   "execution_count": 177,
   "metadata": {},
   "outputs": [
    {
     "data": {
      "text/plain": [
       "(60000, 784)"
      ]
     },
     "execution_count": 177,
     "metadata": {},
     "output_type": "execute_result"
    }
   ],
   "source": [
    "z_p = Xtrn_nm.dot(V.T)\n",
    "z_p.shape"
   ]
  },
  {
   "cell_type": "code",
   "execution_count": 178,
   "metadata": {},
   "outputs": [],
   "source": [
    "for i in range(60000):\n",
    "    z_p[i][2:] = np.zeros((1,782))"
   ]
  },
  {
   "cell_type": "code",
   "execution_count": 179,
   "metadata": {},
   "outputs": [
    {
     "data": {
      "text/plain": [
       "(60000, 784)"
      ]
     },
     "execution_count": 179,
     "metadata": {},
     "output_type": "execute_result"
    }
   ],
   "source": [
    "z_p.shape"
   ]
  },
  {
   "cell_type": "code",
   "execution_count": 180,
   "metadata": {},
   "outputs": [],
   "source": [
    "# filter points that lie in (-5sigma1, 5sigma2) to (5sigma1, -5sigma2)"
   ]
  },
  {
   "cell_type": "code",
   "execution_count": 181,
   "metadata": {},
   "outputs": [],
   "source": [
    "[sigma1, sigma2] = np.sqrt(pca.explained_variance_)[:2]"
   ]
  },
  {
   "cell_type": "code",
   "execution_count": 182,
   "metadata": {},
   "outputs": [],
   "source": [
    "xs = np.linspace(-5*sigma1, 5*sigma1, num=100)"
   ]
  },
  {
   "cell_type": "code",
   "execution_count": 183,
   "metadata": {},
   "outputs": [],
   "source": [
    "ys = np.linspace(-5*sigma2, 5*sigma2, num=100)"
   ]
  },
  {
   "cell_type": "code",
   "execution_count": 184,
   "metadata": {},
   "outputs": [],
   "source": [
    "xx, yy = np.meshgrid(xs, ys)"
   ]
  },
  {
   "cell_type": "code",
   "execution_count": 185,
   "metadata": {},
   "outputs": [
    {
     "data": {
      "text/plain": [
       "10000"
      ]
     },
     "execution_count": 185,
     "metadata": {},
     "output_type": "execute_result"
    }
   ],
   "source": [
    "len(np.c_[xx.ravel(), yy.ravel()])"
   ]
  },
  {
   "cell_type": "code",
   "execution_count": 186,
   "metadata": {},
   "outputs": [],
   "source": [
    "z_xy = np.c_[xx.ravel(), yy.ravel()]"
   ]
  },
  {
   "cell_type": "code",
   "execution_count": 187,
   "metadata": {},
   "outputs": [
    {
     "data": {
      "text/plain": [
       "array([-22.25410393, -17.40130057])"
      ]
     },
     "execution_count": 187,
     "metadata": {},
     "output_type": "execute_result"
    }
   ],
   "source": [
    "z_xy[0]"
   ]
  },
  {
   "cell_type": "code",
   "execution_count": 188,
   "metadata": {},
   "outputs": [],
   "source": [
    "z_orig = np.zeros((len(xx)*len(xx), 784))"
   ]
  },
  {
   "cell_type": "code",
   "execution_count": 189,
   "metadata": {},
   "outputs": [],
   "source": [
    "for i in range(len(xx)*len(xx)):\n",
    "    z_orig[i][:2] = z_xy[i]\n",
    "    z_orig[i][2:] = np.zeros((1,782))"
   ]
  },
  {
   "cell_type": "code",
   "execution_count": 190,
   "metadata": {},
   "outputs": [],
   "source": [
    "# transform to original basis"
   ]
  },
  {
   "cell_type": "code",
   "execution_count": 191,
   "metadata": {},
   "outputs": [],
   "source": [
    "z_xy_orig = z_orig.dot(V)"
   ]
  },
  {
   "cell_type": "code",
   "execution_count": 192,
   "metadata": {},
   "outputs": [],
   "source": [
    "Z = model_lr.predict(z_xy_orig)"
   ]
  },
  {
   "cell_type": "code",
   "execution_count": 229,
   "metadata": {},
   "outputs": [
    {
     "data": {
      "text/plain": [
       "0"
      ]
     },
     "execution_count": 229,
     "metadata": {},
     "output_type": "execute_result"
    }
   ],
   "source": [
    "len(Z[Z==9])"
   ]
  },
  {
   "cell_type": "code",
   "execution_count": 292,
   "metadata": {
    "scrolled": true
   },
   "outputs": [
    {
     "data": {
      "image/png": "[encoded data removed]",
      "text/plain": [
       "<Figure size 720x576 with 2 Axes>"
      ]
     },
     "metadata": {
      "needs_background": "light"
     },
     "output_type": "display_data"
    }
   ],
   "source": [
    "# Put the result into a color plot\n",
    "fig, ax = plt.subplots(figsize=(10,8))\n",
    "cmap = plt.cm.coolwarm\n",
    "cmaplist = [cmap(i) for i in range(cmap.N)]\n",
    "cmap = mpl.colors.LinearSegmentedColormap.from_list('Custom cmap', cmaplist, cmap.N)\n",
    "bounds = np.arange(0,10)\n",
    "norm = mpl.colors.BoundaryNorm(bounds, cmap.N)\n",
    "plt.xlabel('First principal component')\n",
    "plt.ylabel('Second principal component')\n",
    "plt.title('Decision boundaries for multiclass logistic regression on 2D PCA plane')\n",
    "cs = ax.contourf(xx, yy, Z.reshape(xx.shape), cmap=cmap, norm=norm)\n",
    "ax2 = fig.add_axes([0.95, 0.1, 0.03, 0.8])\n",
    "cb = mpl.colorbar.ColorbarBase(ax2, cmap=cmap, norm=norm,\n",
    "    spacing='proportional', ticks=bounds, boundaries=bounds, format='%1i')\n",
    "ax2.set_ylabel('Classes', size=12)\n",
    "plt.savefig('lr_2d_plane.png')\n",
    "plt.show()"
   ]
  },
  {
   "cell_type": "code",
   "execution_count": 195,
   "metadata": {},
   "outputs": [],
   "source": [
    "Z_svm = model_svc.predict(z_xy_orig)"
   ]
  },
  {
   "cell_type": "code",
   "execution_count": 291,
   "metadata": {},
   "outputs": [
    {
     "data": {
      "image/png": "[encoded data removed]",
      "text/plain": [
       "<Figure size 720x576 with 2 Axes>"
      ]
     },
     "metadata": {
      "needs_background": "light"
     },
     "output_type": "display_data"
    }
   ],
   "source": [
    "import matplotlib as mpl\n",
    "fig, ax = plt.subplots(figsize=(10,8))\n",
    "cmap = plt.cm.coolwarm\n",
    "cmaplist = [cmap(i) for i in range(cmap.N)]\n",
    "cmap = mpl.colors.LinearSegmentedColormap.from_list('Custom cmap', cmaplist, cmap.N)\n",
    "bounds = np.arange(0,10)\n",
    "norm = mpl.colors.BoundaryNorm(bounds, cmap.N)\n",
    "plt.xlabel('First principal component')\n",
    "plt.ylabel('Second principal component')\n",
    "plt.title('Decision boundaries for multiclass SVM classification on 2D PCA plane')\n",
    "cs = ax.contourf(xx, yy, Z_svm.reshape(xx.shape), cmap=cmap, norm=norm)\n",
    "ax2 = fig.add_axes([0.95, 0.1, 0.03, 0.8])\n",
    "cb = mpl.colorbar.ColorbarBase(ax2, cmap=cmap, norm=norm,\n",
    "    spacing='proportional', ticks=bounds, boundaries=bounds, format='%1i')\n",
    "ax2.set_ylabel('Classes', size=12)\n",
    "plt.savefig('svc_2d_plane.png')\n",
    "plt.show()"
   ]
  },
  {
   "cell_type": "code",
   "execution_count": 235,
   "metadata": {},
   "outputs": [],
   "source": [
    "Xsmall = np.zeros((10000, 784))\n",
    "Ysmall = np.zeros((10000,), dtype=int)"
   ]
  },
  {
   "cell_type": "code",
   "execution_count": 236,
   "metadata": {},
   "outputs": [],
   "source": [
    "# allocate 1000 samples per class\n",
    "for i in range(10):\n",
    "    Xsmall[i*1000:(i+1)*1000, :] = (Xtrn_nm[Ytrn == i])[:1000, :]\n",
    "    Ysmall[i*1000:(i+1)*1000] = i"
   ]
  },
  {
   "cell_type": "code",
   "execution_count": 245,
   "metadata": {},
   "outputs": [
    {
     "data": {
      "text/plain": [
       "array([1.00000000e-02, 3.59381366e-02, 1.29154967e-01, 4.64158883e-01,\n",
       "       1.66810054e+00, 5.99484250e+00, 2.15443469e+01, 7.74263683e+01,\n",
       "       2.78255940e+02, 1.00000000e+03])"
      ]
     },
     "execution_count": 245,
     "metadata": {},
     "output_type": "execute_result"
    }
   ],
   "source": [
    "C_range = np.logspace(-2, 3, num=10)\n",
    "C_range"
   ]
  },
  {
   "cell_type": "code",
   "execution_count": 247,
   "metadata": {},
   "outputs": [
    {
     "data": {
      "text/plain": [
       "array([0., 0., 0., 0., 0., 0., 0., 0., 0., 0.])"
      ]
     },
     "execution_count": 247,
     "metadata": {},
     "output_type": "execute_result"
    }
   ],
   "source": [
    "mean_cv_scores = np.zeros((10,))"
   ]
  },
  {
   "cell_type": "code",
   "execution_count": 252,
   "metadata": {},
   "outputs": [],
   "source": [
    "for i in range(10):\n",
    "    model_ = SVC(kernel='rbf', C=C_range[i], gamma='auto')\n",
    "    cv_results = cross_validate(model_, Xsmall, Ysmall, cv=3, scoring='accuracy')\n",
    "    mean_cv_scores[i] = np.mean(cv_results['test_score'])"
   ]
  },
  {
   "cell_type": "code",
   "execution_count": 249,
   "metadata": {},
   "outputs": [
    {
     "data": {
      "text/plain": [
       "dict_keys(['fit_time', 'score_time', 'test_score', 'train_score'])"
      ]
     },
     "execution_count": 249,
     "metadata": {},
     "output_type": "execute_result"
    }
   ],
   "source": [
    "cv_results.keys()"
   ]
  },
  {
   "cell_type": "code",
   "execution_count": 258,
   "metadata": {},
   "outputs": [
    {
     "data": {
      "text/plain": [
       "0.8565023106939273"
      ]
     },
     "execution_count": 258,
     "metadata": {},
     "output_type": "execute_result"
    }
   ],
   "source": [
    "np.max(mean_cv_scores)"
   ]
  },
  {
   "cell_type": "code",
   "execution_count": 288,
   "metadata": {},
   "outputs": [
    {
     "data": {
      "text/plain": [
       "21.544346900318846"
      ]
     },
     "execution_count": 288,
     "metadata": {},
     "output_type": "execute_result"
    }
   ],
   "source": [
    "C_range[np.argmax(mean_cv_scores)]"
   ]
  },
  {
   "cell_type": "code",
   "execution_count": 282,
   "metadata": {},
   "outputs": [
    {
     "data": {
      "image/png": "[encoded data removed]",
      "text/plain": [
       "<Figure size 720x504 with 1 Axes>"
      ]
     },
     "metadata": {
      "needs_background": "light"
     },
     "output_type": "display_data"
    }
   ],
   "source": [
    "fig, axs = plt.subplots(figsize=(10,7))\n",
    "plt.scatter(C_range, mean_cv_scores, color='black', label='point')\n",
    "plt.plot(C_range, mean_cv_scores, color='green', label='curve')\n",
    "axs.set_xscale('log')\n",
    "axs.set_xbound(lower=10**(-3), upper=10**4)\n",
    "plt.xlabel('regularisation parameter')\n",
    "plt.ylabel('mean cross-validated classification accuracy')\n",
    "plt.title('Plot of mean cross-validated classification accuracy versus regularisation parameter')\n",
    "plt.legend(loc='best')\n",
    "plt.savefig('svc_cv_plot.png')\n",
    "plt.show()"
   ]
  },
  {
   "cell_type": "code",
   "execution_count": 293,
   "metadata": {},
   "outputs": [],
   "source": [
    "c_max = 21.544346900318846"
   ]
  },
  {
   "cell_type": "code",
   "execution_count": 294,
   "metadata": {},
   "outputs": [],
   "source": [
    "svc_max = SVC(kernel='rbf', C=c_max, gamma='auto').fit(Xtrn_nm, Ytrn)"
   ]
  },
  {
   "cell_type": "code",
   "execution_count": 296,
   "metadata": {},
   "outputs": [],
   "source": [
    "y_pred_tr_svc_max = svc_max.predict(Xtrn_nm)\n",
    "y_pred_tst_svc_max = svc_max.predict(Xtst_nm)"
   ]
  },
  {
   "cell_type": "code",
   "execution_count": 297,
   "metadata": {},
   "outputs": [
    {
     "data": {
      "text/plain": [
       "0.9084166666666667"
      ]
     },
     "execution_count": 297,
     "metadata": {},
     "output_type": "execute_result"
    }
   ],
   "source": [
    "accuracy_score(Ytrn, y_pred_tr_svc_max)"
   ]
  },
  {
   "cell_type": "code",
   "execution_count": 298,
   "metadata": {},
   "outputs": [
    {
     "data": {
      "text/plain": [
       "0.877"
      ]
     },
     "execution_count": 298,
     "metadata": {},
     "output_type": "execute_result"
    }
   ],
   "source": [
    "accuracy_score(Ytst, y_pred_tst_svc_max)"
   ]
  },
  {
   "cell_type": "code",
   "execution_count": null,
   "metadata": {},
   "outputs": [],
   "source": []
  }
 ],
 "metadata": {
  "kernelspec": {
   "display_name": "Python 3",
   "language": "python",
   "name": "python3"
  },
  "language_info": {
   "codemirror_mode": {
    "name": "ipython",
    "version": 3
   },
   "file_extension": ".py",
   "mimetype": "text/x-python",
   "name": "python",
   "nbconvert_exporter": "python",
   "pygments_lexer": "ipython3",
   "version": "3.7.7"
  }
 },
 "nbformat": 4,
 "nbformat_minor": 4
}
